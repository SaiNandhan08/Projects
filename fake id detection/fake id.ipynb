{
  "nbformat": 4,
  "nbformat_minor": 0,
  "metadata": {
    "colab": {
      "name": "proj.ipynb",
      "provenance": [],
      "collapsed_sections": []
    },
    "kernelspec": {
      "name": "python3",
      "display_name": "Python 3"
    },
    "language_info": {
      "name": "python"
    }
  },
  "cells": [
    {
      "cell_type": "code",
      "source": [
        ""
      ],
      "metadata": {
        "id": "kpAq7__vlVHw"
      },
      "execution_count": null,
      "outputs": []
    },
    {
      "cell_type": "markdown",
      "metadata": {
        "id": "LuCLv6iD8vMV"
      },
      "source": [
        "# **Fakes Profile Detector on Instagram**"
      ]
    },
    {
      "cell_type": "code",
      "metadata": {
        "id": "e3L94l279WRL"
      },
      "source": [
        "# importing the necessary packages\n",
        "\n",
        "import pandas as pd\n",
        "import numpy as np\n",
        "import seaborn as sns\n",
        "sns.set_theme()\n",
        "import matplotlib.pyplot as plt\n",
        "\n",
        "\n",
        "# importing the necessary packages into the Machine Learning model\n",
        "from sklearn.metrics import accuracy_score\n",
        "from sklearn.metrics import classification_report\n",
        "\n",
        "from sklearn.ensemble import RandomForestClassifier\n",
        "from sklearn.svm import LinearSVC\n",
        "from sklearn.neighbors import KNeighborsClassifier"
      ],
      "execution_count": null,
      "outputs": []
    },
    {
      "cell_type": "code",
      "metadata": {
        "id": "u0SjP6Gj_Y5v"
      },
      "source": [
        "link_test = \"https://www.dropbox.com/s/ap90v0bu9td4k4y/test.csv?dl=1\"\n",
        "link_train = \"https://www.dropbox.com/s/uanezjf9y1xb2te/train.csv?dl=1\""
      ],
      "execution_count": null,
      "outputs": []
    },
    {
      "cell_type": "code",
      "metadata": {
        "id": "tjfbT7qM_asJ"
      },
      "source": [
        "df_test = pd.read_csv(link_test)\n",
        "df_train = pd.read_csv(link_train)"
      ],
      "execution_count": null,
      "outputs": []
    },
    {
      "cell_type": "code",
      "metadata": {
        "colab": {
          "base_uri": "https://localhost:8080/"
        },
        "id": "1LaJ0lVaAndm",
        "outputId": "1a9bb8d2-2dd3-45ac-fcaf-2f831d1f2bf7"
      },
      "source": [
        "df_train.dtypes"
      ],
      "execution_count": null,
      "outputs": [
        {
          "output_type": "execute_result",
          "data": {
            "text/plain": [
              "profile pic               int64\n",
              "nums/length username    float64\n",
              "fullname words            int64\n",
              "nums/length fullname    float64\n",
              "name==username            int64\n",
              "description length        int64\n",
              "external URL              int64\n",
              "private                   int64\n",
              "#posts                    int64\n",
              "#followers                int64\n",
              "#follows                  int64\n",
              "fake                      int64\n",
              "dtype: object"
            ]
          },
          "metadata": {},
          "execution_count": 5
        }
      ]
    },
    {
      "cell_type": "code",
      "metadata": {
        "colab": {
          "base_uri": "https://localhost:8080/"
        },
        "id": "HiyzVgKQ_caR",
        "outputId": "be2758d2-2768-4dd9-d98c-d5e27a88f8aa"
      },
      "source": [
        "print(\"Null Values for our Training Dataset::\\n\")\n",
        "df_train.isnull().sum()"
      ],
      "execution_count": null,
      "outputs": [
        {
          "output_type": "stream",
          "name": "stdout",
          "text": [
            "Null Values for our Training Dataset::\n",
            "\n"
          ]
        },
        {
          "output_type": "execute_result",
          "data": {
            "text/plain": [
              "profile pic             0\n",
              "nums/length username    0\n",
              "fullname words          0\n",
              "nums/length fullname    0\n",
              "name==username          0\n",
              "description length      0\n",
              "external URL            0\n",
              "private                 0\n",
              "#posts                  0\n",
              "#followers              0\n",
              "#follows                0\n",
              "fake                    0\n",
              "dtype: int64"
            ]
          },
          "metadata": {},
          "execution_count": 6
        }
      ]
    },
    {
      "cell_type": "code",
      "metadata": {
        "colab": {
          "base_uri": "https://localhost:8080/"
        },
        "id": "QzAoyyNFAr6x",
        "outputId": "eef58efc-a948-44b2-d6a6-ce82850de2e4"
      },
      "source": [
        "print(\"Null Values for our test Dataset:\\n\")\n",
        "df_test.isnull().sum()"
      ],
      "execution_count": null,
      "outputs": [
        {
          "output_type": "stream",
          "name": "stdout",
          "text": [
            "Null Values for our test Dataset:\n",
            "\n"
          ]
        },
        {
          "output_type": "execute_result",
          "data": {
            "text/plain": [
              "profile pic             0\n",
              "nums/length username    0\n",
              "fullname words          0\n",
              "nums/length fullname    0\n",
              "name==username          0\n",
              "description length      0\n",
              "external URL            0\n",
              "private                 0\n",
              "#posts                  0\n",
              "#followers              0\n",
              "#follows                0\n",
              "fake                    0\n",
              "dtype: int64"
            ]
          },
          "metadata": {},
          "execution_count": 7
        }
      ]
    },
    {
      "cell_type": "code",
      "metadata": {
        "colab": {
          "base_uri": "https://localhost:8080/",
          "height": 443
        },
        "id": "u3Wpkn8HAxT5",
        "outputId": "4b0474ac-1fee-49cd-99c4-494fc6bf4041"
      },
      "source": [
        "print(\"correlation between our data\")\n",
        "df_train.corr()[[\"fake\"]]"
      ],
      "execution_count": null,
      "outputs": [
        {
          "output_type": "stream",
          "name": "stdout",
          "text": [
            "correlation between our data\n"
          ]
        },
        {
          "output_type": "execute_result",
          "data": {
            "text/plain": [
              "                          fake\n",
              "profile pic          -0.637315\n",
              "nums/length username  0.587687\n",
              "fullname words       -0.298793\n",
              "nums/length fullname  0.246782\n",
              "name==username        0.170695\n",
              "description length   -0.460825\n",
              "external URL         -0.362809\n",
              "private              -0.028586\n",
              "#posts               -0.245355\n",
              "#followers           -0.093689\n",
              "#follows             -0.224835\n",
              "fake                  1.000000"
            ],
            "text/html": [
              "\n",
              "  <div id=\"df-58a5d9ba-151e-4e84-8895-b7bf1ba6f8cb\">\n",
              "    <div class=\"colab-df-container\">\n",
              "      <div>\n",
              "<style scoped>\n",
              "    .dataframe tbody tr th:only-of-type {\n",
              "        vertical-align: middle;\n",
              "    }\n",
              "\n",
              "    .dataframe tbody tr th {\n",
              "        vertical-align: top;\n",
              "    }\n",
              "\n",
              "    .dataframe thead th {\n",
              "        text-align: right;\n",
              "    }\n",
              "</style>\n",
              "<table border=\"1\" class=\"dataframe\">\n",
              "  <thead>\n",
              "    <tr style=\"text-align: right;\">\n",
              "      <th></th>\n",
              "      <th>fake</th>\n",
              "    </tr>\n",
              "  </thead>\n",
              "  <tbody>\n",
              "    <tr>\n",
              "      <th>profile pic</th>\n",
              "      <td>-0.637315</td>\n",
              "    </tr>\n",
              "    <tr>\n",
              "      <th>nums/length username</th>\n",
              "      <td>0.587687</td>\n",
              "    </tr>\n",
              "    <tr>\n",
              "      <th>fullname words</th>\n",
              "      <td>-0.298793</td>\n",
              "    </tr>\n",
              "    <tr>\n",
              "      <th>nums/length fullname</th>\n",
              "      <td>0.246782</td>\n",
              "    </tr>\n",
              "    <tr>\n",
              "      <th>name==username</th>\n",
              "      <td>0.170695</td>\n",
              "    </tr>\n",
              "    <tr>\n",
              "      <th>description length</th>\n",
              "      <td>-0.460825</td>\n",
              "    </tr>\n",
              "    <tr>\n",
              "      <th>external URL</th>\n",
              "      <td>-0.362809</td>\n",
              "    </tr>\n",
              "    <tr>\n",
              "      <th>private</th>\n",
              "      <td>-0.028586</td>\n",
              "    </tr>\n",
              "    <tr>\n",
              "      <th>#posts</th>\n",
              "      <td>-0.245355</td>\n",
              "    </tr>\n",
              "    <tr>\n",
              "      <th>#followers</th>\n",
              "      <td>-0.093689</td>\n",
              "    </tr>\n",
              "    <tr>\n",
              "      <th>#follows</th>\n",
              "      <td>-0.224835</td>\n",
              "    </tr>\n",
              "    <tr>\n",
              "      <th>fake</th>\n",
              "      <td>1.000000</td>\n",
              "    </tr>\n",
              "  </tbody>\n",
              "</table>\n",
              "</div>\n",
              "      <button class=\"colab-df-convert\" onclick=\"convertToInteractive('df-58a5d9ba-151e-4e84-8895-b7bf1ba6f8cb')\"\n",
              "              title=\"Convert this dataframe to an interactive table.\"\n",
              "              style=\"display:none;\">\n",
              "        \n",
              "  <svg xmlns=\"http://www.w3.org/2000/svg\" height=\"24px\"viewBox=\"0 0 24 24\"\n",
              "       width=\"24px\">\n",
              "    <path d=\"M0 0h24v24H0V0z\" fill=\"none\"/>\n",
              "    <path d=\"M18.56 5.44l.94 2.06.94-2.06 2.06-.94-2.06-.94-.94-2.06-.94 2.06-2.06.94zm-11 1L8.5 8.5l.94-2.06 2.06-.94-2.06-.94L8.5 2.5l-.94 2.06-2.06.94zm10 10l.94 2.06.94-2.06 2.06-.94-2.06-.94-.94-2.06-.94 2.06-2.06.94z\"/><path d=\"M17.41 7.96l-1.37-1.37c-.4-.4-.92-.59-1.43-.59-.52 0-1.04.2-1.43.59L10.3 9.45l-7.72 7.72c-.78.78-.78 2.05 0 2.83L4 21.41c.39.39.9.59 1.41.59.51 0 1.02-.2 1.41-.59l7.78-7.78 2.81-2.81c.8-.78.8-2.07 0-2.86zM5.41 20L4 18.59l7.72-7.72 1.47 1.35L5.41 20z\"/>\n",
              "  </svg>\n",
              "      </button>\n",
              "      \n",
              "  <style>\n",
              "    .colab-df-container {\n",
              "      display:flex;\n",
              "      flex-wrap:wrap;\n",
              "      gap: 12px;\n",
              "    }\n",
              "\n",
              "    .colab-df-convert {\n",
              "      background-color: #E8F0FE;\n",
              "      border: none;\n",
              "      border-radius: 50%;\n",
              "      cursor: pointer;\n",
              "      display: none;\n",
              "      fill: #1967D2;\n",
              "      height: 32px;\n",
              "      padding: 0 0 0 0;\n",
              "      width: 32px;\n",
              "    }\n",
              "\n",
              "    .colab-df-convert:hover {\n",
              "      background-color: #E2EBFA;\n",
              "      box-shadow: 0px 1px 2px rgba(60, 64, 67, 0.3), 0px 1px 3px 1px rgba(60, 64, 67, 0.15);\n",
              "      fill: #174EA6;\n",
              "    }\n",
              "\n",
              "    [theme=dark] .colab-df-convert {\n",
              "      background-color: #3B4455;\n",
              "      fill: #D2E3FC;\n",
              "    }\n",
              "\n",
              "    [theme=dark] .colab-df-convert:hover {\n",
              "      background-color: #434B5C;\n",
              "      box-shadow: 0px 1px 3px 1px rgba(0, 0, 0, 0.15);\n",
              "      filter: drop-shadow(0px 1px 2px rgba(0, 0, 0, 0.3));\n",
              "      fill: #FFFFFF;\n",
              "    }\n",
              "  </style>\n",
              "\n",
              "      <script>\n",
              "        const buttonEl =\n",
              "          document.querySelector('#df-58a5d9ba-151e-4e84-8895-b7bf1ba6f8cb button.colab-df-convert');\n",
              "        buttonEl.style.display =\n",
              "          google.colab.kernel.accessAllowed ? 'block' : 'none';\n",
              "\n",
              "        async function convertToInteractive(key) {\n",
              "          const element = document.querySelector('#df-58a5d9ba-151e-4e84-8895-b7bf1ba6f8cb');\n",
              "          const dataTable =\n",
              "            await google.colab.kernel.invokeFunction('convertToInteractive',\n",
              "                                                     [key], {});\n",
              "          if (!dataTable) return;\n",
              "\n",
              "          const docLinkHtml = 'Like what you see? Visit the ' +\n",
              "            '<a target=\"_blank\" href=https://colab.research.google.com/notebooks/data_table.ipynb>data table notebook</a>'\n",
              "            + ' to learn more about interactive tables.';\n",
              "          element.innerHTML = '';\n",
              "          dataTable['output_type'] = 'display_data';\n",
              "          await google.colab.output.renderOutput(dataTable, element);\n",
              "          const docLink = document.createElement('div');\n",
              "          docLink.innerHTML = docLinkHtml;\n",
              "          element.appendChild(docLink);\n",
              "        }\n",
              "      </script>\n",
              "    </div>\n",
              "  </div>\n",
              "  "
            ]
          },
          "metadata": {},
          "execution_count": 8
        }
      ]
    },
    {
      "cell_type": "markdown",
      "metadata": {
        "id": "YnqnOiy8BJiZ"
      },
      "source": [
        "### Viewing our data"
      ]
    },
    {
      "cell_type": "markdown",
      "metadata": {
        "id": "hLmSeTKQBOea"
      },
      "source": [
        "Let's start by visualizing our correlation from a heat graph"
      ]
    },
    {
      "cell_type": "code",
      "metadata": {
        "colab": {
          "base_uri": "https://localhost:8080/",
          "height": 837
        },
        "id": "r9zmzvlCBKk5",
        "outputId": "0fc9e06d-894c-4690-a1ed-39943e464e4e"
      },
      "source": [
        "fig, ax = plt.subplots(figsize=(12,12))\n",
        "sns.heatmap(df_train.corr(), cmap='coolwarm', ax=ax , linewidths=.9)\n",
        "ax.set_title(\"Correlation of the different variables in our data set\")\n",
        "plt.show()"
      ],
      "execution_count": null,
      "outputs": [
        {
          "output_type": "display_data",
          "data": {
            "text/plain": [
              "<Figure size 864x864 with 2 Axes>"
            ],
            "image/png": "[encoded data removed]"
          },
          "metadata": {}
        }
      ]
    },
    {
      "cell_type": "markdown",
      "metadata": {
        "id": "9xhWTjILBZX_"
      },
      "source": [
        "Furthermore, it is important that we know the proportion of the data in our DataFrame. Let's plot a graph that shows the amount of fakes and not fake in our training data"
      ]
    },
    {
      "cell_type": "code",
      "metadata": {
        "colab": {
          "base_uri": "https://localhost:8080/",
          "height": 582
        },
        "id": "eZoYJ9N8BS8N",
        "outputId": "64397f59-7df0-4527-fc51-083c8400b1e2"
      },
      "source": [
        "ax = plt.figure(figsize=(10,8))\n",
        "ax = sns.countplot(df_train.fake , color=\"salmon\")\n",
        "ax.set_title(\"Comparison between fakes and non-fakes on Instagram\" , fontsize=24 , loc=\"center\")\n",
        "ax.set_xlabel(\"Is fake?\")\n",
        "ax.set_ylabel(\"\")\n",
        "ax = ax"
      ],
      "execution_count": null,
      "outputs": [
        {
          "output_type": "stream",
          "name": "stderr",
          "text": [
            "/usr/local/lib/python3.7/dist-packages/seaborn/_decorators.py:43: FutureWarning: Pass the following variable as a keyword arg: x. From version 0.12, the only valid positional argument will be `data`, and passing other arguments without an explicit keyword will result in an error or misinterpretation.\n",
            "  FutureWarning\n"
          ]
        },
        {
          "output_type": "display_data",
          "data": {
            "text/plain": [
              "<Figure size 720x576 with 1 Axes>"
            ],
            "image/png": "[encoded data removed]"
          },
          "metadata": {}
        }
      ]
    },
    {
      "cell_type": "markdown",
      "metadata": {
        "id": "yYzHUk6oChOY"
      },
      "source": [
        "### Processing our data:"
      ]
    },
    {
      "cell_type": "code",
      "metadata": {
        "id": "RO_hPlBRBjca"
      },
      "source": [
        
        "df_train = df_train.sample(df_train.shape[0],random_state=28)\n",
        "\n",
        "df_test = df_test.sample(df_test.shape[0],random_state=28)"
      ],
      "execution_count": null,
      "outputs": []
    },
    {
      "cell_type": "markdown",
      "metadata": {
        "id": "dWHDwSRrC5Bd"
      },
      "source": [
        "### Training and test data"
      ]
    },
    {
      "cell_type": "code",
      "metadata": {
        "id": "gdZJXhH1CrM8"
      },
      "source": [

        "X_train = df_train.drop([\"fake\"] , axis=1)\n",
        "y_train = df_train[\"fake\"]\n",
        "\n",
       
        "X_test = df_test.drop([\"fake\"] , axis=1)\n",
        "y_test = df_test[\"fake\"]"
      ],
      "execution_count": null,
      "outputs": []
    },
    {
      "cell_type": "code",
      "metadata": {
        "colab": {
          "base_uri": "https://localhost:8080/"
        },
        "id": "-vJD-ox7DH2S",
        "outputId": "5510e2bf-060b-4a93-eabe-c2d76c193428"
      },
      "source": [
        "model = RandomForestClassifier(n_estimators=120 , random_state=28  , max_depth = 100 , max_samples = 350)\n",
        "model.fit(X_train,y_train)\n",
        "\n",
        "pred = model.predict(X_test)\n",
        "\n",
        "print(\"The average accuracy rate of the model with tuning was:\",accuracy_score(y_test,pred))\n",
        "print(classification_report(y_test,pred))"
      ],
      "execution_count": null,
      "outputs": [
        {
          "output_type": "stream",
          "name": "stdout",
          "text": [
            "The average accuracy rate of the model with tuning was: 0.955\n",
            "              precision    recall  f1-score   support\n",
            "\n",
            "           0       0.95      0.95      0.95        60\n",
            "           1       0.96      0.96      0.96        60\n",
            "\n",
            "    accuracy                           0.96       120\n",
            "   macro avg       0.96      0.96      0.95       120\n",
            "weighted avg       0.96      0.96      0.95       120\n",
            "\n"
          ]
        }
      ]
    },
    {
      "cell_type": "code",
      "metadata": {
        "colab": {
          "base_uri": "https://localhost:8080/"
        },
        "id": "dcy1uCz7Dq_6",
        "outputId": "b5613ea5-cf2c-4716-b5ef-fd1a0342dc7a"
      },
      "source": [
        "\n",
        "model = LinearSVC(random_state=28)\n",
        "model.fit(X_train,y_train)\n",
        "\n",
        "pred = model.predict(X_test)\n",
        "\n",
        "print(\"The average accuracy of the model was: {}\".format(accuracy_score(y_test,pred) ))\n",
        "print(classification_report(y_test,pred))"
      ],
      "execution_count": null,
      "outputs": [
        {
          "output_type": "stream",
          "name": "stdout",
          "text": [
            "The average accuracy of the model was: 0.6916666666666667\n",
            "              precision    recall  f1-score   support\n",
            "\n",
            "           0       0.96      0.40      0.56        60\n",
            "           1       0.62      0.98      0.76        60\n",
            "\n",
            "    accuracy                           0.69       120\n",
            "   macro avg       0.79      0.69      0.66       120\n",
            "weighted avg       0.79      0.69      0.66       120\n",
            "\n"
          ]
        },
        {
          "output_type": "stream",
          "name": "stderr",
          "text": [
            "/usr/local/lib/python3.7/dist-packages/sklearn/svm/_base.py:1208: ConvergenceWarning: Liblinear failed to converge, increase the number of iterations.\n",
            "  ConvergenceWarning,\n"
          ]
        }
      ]
    },
    {
      "cell_type": "code",
      "metadata": {
        "colab": {
          "base_uri": "https://localhost:8080/"
        },
        "id": "J90gGUiNEKV7",
        "outputId": "c604e45e-3ebe-44a2-f7be-d98698e258f9"
      },
      "source": [
        "model = KNeighborsClassifier(n_neighbors=10 , weights=\"distance\")\n",
        "model.fit(X_train,y_train)\n",
        "\n",
        "pred = model.predict(X_test)\n",
        "\n",
        "print(\"The average accuracy of the model was:\" , accuracy_score(y_test , pred))\n",
        "print(classification_report(y_test , pred))"
      ],
      "execution_count": null,
      "outputs": [
        {
          "output_type": "stream",
          "name": "stdout",
          "text": [
            "The average accuracy of the model was: 0.875\n",
            "              precision    recall  f1-score   support\n",
            "\n",
            "           0       0.86      0.90      0.88        60\n",
            "           1       0.89      0.85      0.87        60\n",
            "\n",
            "    accuracy                           0.88       120\n",
            "   macro avg       0.88      0.88      0.87       120\n",
            "weighted avg       0.88      0.88      0.87       120\n",
            "\n"
          ]
        }
      ]
    },
    {
      "cell_type": "code",
      "metadata": {
        "id": "UD7gVuMXFY--",
        "outputId": "b8185f85-ab63-4892-e315-8c5c00f96a6d",
        "colab": {
          "base_uri": "https://localhost:8080/",
          "height": 459
        }
      },
      "source": [
        "from sklearn.naive_bayes import GaussianNB\n",
        "model =  GaussianNB()\n",
        "model.fit(X_train,y_train)\n",
        "\n",
        "pred = model.predict(X_test)\n",
        "\n",
        "print(\"The average accuracy of the model was:\" , accuracy_score(y_test , pred))\n",
        "print(classification_report(y_test , pred))\n",
        "import matplotlib as mpl\n",
        "import matplotlib.pyplot as plt\n",
        "plt.plot(y_test,pred)"
      ],
      "execution_count": null,
      "outputs": [
        {
          "output_type": "stream",
          "name": "stdout",
          "text": [
            "The average accuracy of the model was: 0.6166666666666667\n",
            "              precision    recall  f1-score   support\n",
            "\n",
            "           0       0.77      0.33      0.47        60\n",
            "           1       0.57      0.90      0.70        60\n",
            "\n",
            "    accuracy                           0.62       120\n",
            "   macro avg       0.67      0.62      0.58       120\n",
            "weighted avg       0.67      0.62      0.58       120\n",
            "\n"
          ]
        },
        {
          "output_type": "execute_result",
          "data": {
            "text/plain": [
              "[<matplotlib.lines.Line2D at 0x7f77962ac2d0>]"
            ]
          },
          "metadata": {},
          "execution_count": 16
        },
        {
          "output_type": "display_data",
          "data": {
            "text/plain": [
              "<Figure size 432x288 with 1 Axes>"
            ],
            "image/png": "[encoded data removed]"
          },
          "metadata": {}
        }
      ]
    },
    {
      "cell_type": "code",
      "source": [
        "from sklearn.neural_network import MLPClassifier\n",
        "model =  MLPClassifier(solver='lbfgs', alpha=1e-5,hidden_layer_sizes=(346, 12), random_state=28)\n",
        "model.fit(X_train,y_train)\n",
        "\n",
        "pred = model.predict(X_test)\n",
        "\n",
        "print(\"The average accuracy of the model was:\" , accuracy_score(y_test , pred))\n",
        "print(classification_report(y_test , pred))\n"
      ],
      "metadata": {
        "id": "er5Oc0y1hz1h",
        "outputId": "36f81aa8-b0bc-403f-f698-469a30f9cc14",
        "colab": {
          "base_uri": "https://localhost:8080/"
        }
      },
      "execution_count": null,
      "outputs": [
        {
          "output_type": "stream",
          "name": "stdout",
          "text": [
            "The average accuracy of the model was: 0.875\n",
            "              precision    recall  f1-score   support\n",
            "\n",
            "           0       0.87      0.88      0.88        60\n",
            "           1       0.88      0.87      0.87        60\n",
            "\n",
            "    accuracy                           0.88       120\n",
            "   macro avg       0.88      0.88      0.87       120\n",
            "weighted avg       0.88      0.88      0.87       120\n",
            "\n"
          ]
        },
        {
          "output_type": "stream",
          "name": "stderr",
          "text": [
            "/usr/local/lib/python3.7/dist-packages/sklearn/neural_network/_multilayer_perceptron.py:549: ConvergenceWarning: lbfgs failed to converge (status=1):\n",
            "STOP: TOTAL NO. of ITERATIONS REACHED LIMIT.\n",
            "\n",
            "Increase the number of iterations (max_iter) or scale the data as shown in:\n",
            "    https://scikit-learn.org/stable/modules/preprocessing.html\n",
            "  self.n_iter_ = _check_optimize_result(\"lbfgs\", opt_res, self.max_iter)\n"
          ]
        }
      ]
    },
    {
      "cell_type": "code",
      "source": [
        "#Boosting - Ada Boost\n",
        "from sklearn.tree import DecisionTreeClassifier\n",
        "\n",
        "from sklearn. ensemble import RandomForestClassifier, BaggingClassifier, AdaBoostClassifier, VotingClassifier\n",
        "\n",
        "adb = AdaBoostClassifier(DecisionTreeClassifier(),n_estimators = 5, learning_rate = 1)\n",
        "adb.fit(X_train,y_train)\n",
        "pred = adb.predict(X_test)"
      ],
      "metadata": {
        "id": "p8ECTfYTvhMr"
      },
      "execution_count": null,
      "outputs": []
    },
    {
      "cell_type": "code",
      "source": [
        "adb.score(X_test,y_test)\n",
        "print(classification_report(y_test , pred))"
      ],
      "metadata": {
        "id": "co4Eo4IhwS2b",
        "outputId": "89a627f9-c2fb-45e8-95d0-4c11f0db9dd2",
        "colab": {
          "base_uri": "https://localhost:8080/"
        }
      },
      "execution_count": null,
      "outputs": [
        {
          "output_type": "stream",
          "name": "stdout",
          "text": [
            "              precision    recall  f1-score   support\n",
            "\n",
            "           0       0.92      0.92      0.92        60\n",
            "           1       0.92      0.92      0.92        60\n",
            "\n",
            "    accuracy                           0.92       120\n",
            "   macro avg       0.92      0.92      0.92       120\n",
            "weighted avg       0.92      0.92      0.92       120\n",
            "\n"
          ]
        }
      ]
    },
    {
      "cell_type": "code",
      "source": [
        "from sklearn.tree import DecisionTreeClassifier\n",
        "model =  DecisionTreeClassifier(criterion=\"gini\",max_depth=2, random_state=42)\n",
        "model.fit(X_train,y_train)\n",
        "pred = model.predict(X_test)\n",
        "print(\"The average accuracy of the model was:\" , accuracy_score(y_test , pred))\n",
        "print(classification_report(y_test , pred))\n",
        "import matplotlib as mpl\n",
        "import matplotlib.pyplot as plt\n",
        "plt.plot(y_test,pred)"
      ],
      "metadata": {
        "id": "6nXTqFGZh2N7",
        "outputId": "47e6af7e-9e98-4963-8357-5a17fbd6b64a",
        "colab": {
          "base_uri": "https://localhost:8080/",
          "height": 459
        }
      },
      "execution_count": null,
      "outputs": [
        {
          "output_type": "stream",
          "name": "stdout",
          "text": [
            "The average accuracy of the model was: 0.8416666666666667\n",
            "              precision    recall  f1-score   support\n",
            "\n",
            "           0       0.84      0.85      0.84        60\n",
            "           1       0.85      0.83      0.84        60\n",
            "\n",
            "    accuracy                           0.84       120\n",
            "   macro avg       0.84      0.84      0.84       120\n",
            "weighted avg       0.84      0.84      0.84       120\n",
            "\n"
          ]
        },
        {
          "output_type": "execute_result",
          "data": {
            "text/plain": [
              "[<matplotlib.lines.Line2D at 0x7f77961f5d50>]"
            ]
          },
          "metadata": {},
          "execution_count": 20
        },
        {
          "output_type": "display_data",
          "data": {
            "text/plain": [
              "<Figure size 432x288 with 1 Axes>"
            ],
            "image/png": "[encoded data removed]"
          },
          "metadata": {}
        }
      ]
    },
    {
      "cell_type": "code",
      "source": [
        ""
      ],
      "metadata": {
        "id": "eq9hXTd2xBWU"
      },
      "execution_count": null,
      "outputs": []
    },
    {
      "cell_type": "code",
      "source": [
        "import matplotlib as mpl\n",
        "import matplotlib.pyplot as plt\n",
        "plt.plot(y_test,pred)"
      ],
      "metadata": {
        "id": "bJ31OzVvje2y",
        "outputId": "fd86ce92-2afd-4fe8-99d5-1a9a789631bc",
        "colab": {
          "base_uri": "https://localhost:8080/",
          "height": 285
        }
      },
      "execution_count": null,
      "outputs": [
        {
          "output_type": "execute_result",
          "data": {
            "text/plain": [
              "[<matplotlib.lines.Line2D at 0x7f7796167710>]"
            ]
          },
          "metadata": {},
          "execution_count": 21
        },
        {
          "output_type": "display_data",
          "data": {
            "text/plain": [
              "<Figure size 432x288 with 1 Axes>"
            ],
            "image/png": "[encoded data removed]"
          },
          "metadata": {}
        }
      ]
    },
    {
      "cell_type": "code",
      "source": [
        "# Voting Classifier - Multiple Model Ensemble \n",
        "import numpy as np \n",
        "import pandas as pd\n",
        "from sklearn.neural_network import MLPClassifier\n",
        "from sklearn.svm import LinearSVC\n",
        "from sklearn.neighbors import KNeighborsClassifier\n",
        "from sklearn.naive_bayes import GaussianNB\n",
        "from sklearn.model_selection import train_test_split\n",
        "from sklearn.tree import DecisionTreeClassifier\n",
        "from sklearn. ensemble import RandomForestClassifier, BaggingClassifier, AdaBoostClassifier, VotingClassifier\n",
        "from sklearn.linear_model import LogisticRegression\n",
        "from sklearn.svm import SVC\n",
        "mlp = MLPClassifier(solver='lbfgs', alpha=1e-5,hidden_layer_sizes=(346, 12), random_state=28)\n",
        "dt = DecisionTreeClassifier()\n",
        "svm = LinearSVC()\n",
        "rf=RandomForestClassifier()\n",
        "nb=GaussianNB()\n",
        "kn=KNeighborsClassifier(n_neighbors=10 , weights=\"distance\")\n",
        "\n",
        "evc = VotingClassifier( estimators= [('mlp',mlp),('dt',dt),('svm',svm),('rf',rf),('nb',nb),('kn',kn)], voting = 'hard')\n",
        "\n",
        "evc.fit(X_train.iloc[1:518],y_train.iloc[1:518])\n",
        "pred = evc.predict(X_test)\n",
        "print(\"The average accuracy of the model was:\" , accuracy_score(y_test , pred))\n",
        "print(classification_report(y_test , pred))"
      ],
      "metadata": {
        "id": "a5jY7P0hxDM6",
        "outputId": "036dcb5a-7415-4893-9cbe-eed6501fe5d3",
        "colab": {
          "base_uri": "https://localhost:8080/"
        }
      },
      "execution_count": null,
      "outputs": [
        {
          "output_type": "stream",
          "name": "stderr",
          "text": [
            "/usr/local/lib/python3.7/dist-packages/sklearn/neural_network/_multilayer_perceptron.py:549: ConvergenceWarning: lbfgs failed to converge (status=1):\n",
            "STOP: TOTAL NO. of ITERATIONS REACHED LIMIT.\n",
            "\n",
            "Increase the number of iterations (max_iter) or scale the data as shown in:\n",
            "    https://scikit-learn.org/stable/modules/preprocessing.html\n",
            "  self.n_iter_ = _check_optimize_result(\"lbfgs\", opt_res, self.max_iter)\n",
            "/usr/local/lib/python3.7/dist-packages/sklearn/svm/_base.py:1208: ConvergenceWarning: Liblinear failed to converge, increase the number of iterations.\n",
            "  ConvergenceWarning,\n"
          ]
        },
        {
          "output_type": "stream",
          "name": "stdout",
          "text": [
            "The average accuracy of the model was: 0.965\n",
            "              precision    recall  f1-score   support\n",
            "\n",
            "           0       0.97      0.96      0.96        60\n",
            "           1       0.96      0.97      0.97        60\n",
            "\n",
            "    accuracy                           0.97       120\n",
            "   macro avg       0.97      0.97      0.96       120\n",
            "weighted avg       0.97      0.97      0.96       120\n",
            "\n"
          ]
        }
      ]
    },
    {
      "cell_type": "code",
      "source": [
        "pred = evc.predict([[1,0.0,1,0.18181818181818182,0,7,0,0,5,196,163]])\n",
        "print(pred[0])"
      ],
      "metadata": {
        "colab": {
          "base_uri": "https://localhost:8080/"
        },
        "id": "Vjt8gzf1Khp3",
        "outputId": "f97751cb-fdff-41c6-de3f-ce1a71354331"
      },
      "execution_count": null,
      "outputs": [
        {
          "output_type": "stream",
          "name": "stdout",
          "text": [
            "0\n"
          ]
        },
        {
          "output_type": "stream",
          "name": "stderr",
          "text": [
            "/usr/local/lib/python3.7/dist-packages/sklearn/base.py:451: UserWarning: X does not have valid feature names, but MLPClassifier was fitted with feature names\n",
            "  \"X does not have valid feature names, but\"\n",
            "/usr/local/lib/python3.7/dist-packages/sklearn/base.py:451: UserWarning: X does not have valid feature names, but DecisionTreeClassifier was fitted with feature names\n",
            "  \"X does not have valid feature names, but\"\n",
            "/usr/local/lib/python3.7/dist-packages/sklearn/base.py:451: UserWarning: X does not have valid feature names, but LinearSVC was fitted with feature names\n",
            "  \"X does not have valid feature names, but\"\n",
            "/usr/local/lib/python3.7/dist-packages/sklearn/base.py:451: UserWarning: X does not have valid feature names, but RandomForestClassifier was fitted with feature names\n",
            "  \"X does not have valid feature names, but\"\n",
            "/usr/local/lib/python3.7/dist-packages/sklearn/base.py:451: UserWarning: X does not have valid feature names, but GaussianNB was fitted with feature names\n",
            "  \"X does not have valid feature names, but\"\n",
            "/usr/local/lib/python3.7/dist-packages/sklearn/base.py:451: UserWarning: X does not have valid feature names, but KNeighborsClassifier was fitted with feature names\n",
            "  \"X does not have valid feature names, but\"\n"
          ]
        }
      ]
    },
    {
      "cell_type": "code",
      "source": [
        "pip install instagramy"
      ],
      "metadata": {
        "colab": {
          "base_uri": "https://localhost:8080/"
        },
        "id": "1vHeug7ZjYLz",
        "outputId": "354e8682-cf2e-4a5e-c696-5c3db0114ac8"
      },
      "execution_count": null,
      "outputs": [
        {
          "output_type": "stream",
          "name": "stdout",
          "text": [
            "Collecting instagramy\n",
            "  Downloading instagramy-4.5-py3-none-any.whl (20 kB)\n",
            "Installing collected packages: instagramy\n",
            "Successfully installed instagramy-4.5\n"
          ]
        }
      ]
    },
    {
      "cell_type": "code",
      "source": [
        "from instagramy import InstagramUser\n",
        "import time"
      ],
      "metadata": {
        "id": "ptbxx1JKj7Hy"
      },
      "execution_count": null,
      "outputs": []
    },
    {
      "cell_type": "code",
      "source": [
        "time.sleep(10)\n",
        "username='nbot_indi14'\n",
        "user = InstagramUser('md_rameez14', sessionid='')\n",
        "\n",
        "\n",
        "print(user.is_verified)\n",
        "\n",
        "print(user.biography)\n",
        "\n",
        "lenbio=len(user.biography)\n",
        "fullname=user.fullname\n",
        "no_of_posts=user.number_of_posts\n",
        "no_of_followers=user.number_of_followers\n",
        "no_of_following=user.number_of_followings\n",
        "is_private=user.is_private\n",
        "website=user.website\n",
        "dp_url=user.profile_picture_url\n",
        "\n",
        "print(lenbio)\n",
        "print(fullname)\n",
        "print(no_of_posts)\n",
        "print(no_of_followers)\n",
        "print(no_of_following)\n",
        "print(is_private)\n",
        "print(website)\n",
        "print(dp_url)\n",
        "#user has profile picture or not\n",
        "at1_dp = 1\n",
        "import cv2\n",
        "import numpy as np\n",
        "from PIL import Image\n",
        "urllib.request.urlretrieve(\"https://instagram.fevn6-1.fna.fbcdn.net/v/t51.2885-19/44884218_345707102882519_2446069589734326272_n.jpg?efg=eyJybWQiOiJpZ19hbmRyb2lkX21vYmlsZV9uZXR3b3JrX3N0YWNrX3JldHJ5X2Nvbm5lY3Rpb25fcmVmdXNlZDpjb250cm9sIn0&_nc_ht=instagram.fevn6-1.fna.fbcdn.net&_nc_cat=1&_nc_ohc=qQm-VYggXIkAX_du3Gr&edm=AEVnrqQBAAAA&ccb=7-4&ig_cache_key=YW5vbnltb3VzX3Byb2ZpbGVfcGlj.2-ccb7-4&oh=00_AT_fiEO5z_wGv1dShTa23qo42Dk01V_YgsDXiaLdCFmYmQ&oe=628B96CF&_nc_sid=3ae735\",\"ch1.jpg\")\n",
        "\n",
        "urllib.request.urlretrieve(dp_url,\"ch2.jpg\")\n",
        "\n",
        "original = cv2.imread(\"ch1.jpg\")\n",
        "duplicate = cv2.imread(\"ch2.jpg\")\n",
        "\n",
        "if original.shape == duplicate.shape:\n",
        " print(\"The Dp of the account is InstaGram's Default one\")\n",
        " at1_dp=0\n",
        "else:\n",
        "  print(\"they are different\")\n",
        "\n",
        "\n",
        "#ratio of number of numerical chars in fullname to its length\n",
        "at2_fullname_ntoc=0\n",
        "\n",
        "for s in fullname:\n",
        "    if s.isnumeric():\n",
        "        at2_fullname_ntoc += 1\n",
        "at2_fullname_ntoc/=len(fullname)\n",
        "\n",
        "#full name in word tokens\n",
        "at3_no_of_words_token=res = len(fullname.split())\n",
        "\n",
        "#ratio of number of numerical chars in username to its length\n",
        "at4_username_ntoc=0\n",
        "for s in username:\n",
        "    if s.isnumeric():\n",
        "        at4_username_ntoc += 1\n",
        "at4_username_ntoc/=len(username)\n",
        "\n",
        "#are username and full name literally the same\n",
        "at5_un_fn_same=0\n",
        "if username==fullname:\n",
        "    at5_un_fn_same=1\n",
        "\n",
        "#bio length in characters\n",
        "at6_bio_len=lenbio\n",
        "\n",
        "#has external URL or not\n",
        "at7_has_url=1\n",
        "if website==None:\n",
        "    at7_has_url=0\n",
        "\n",
        "#private or not\n",
        "at8_pvt=0\n",
        "if is_private==True:\n",
        "    at8_pvt=1\n",
        "\n",
        "#number of posts\n",
        "at9_no_of_posts=no_of_posts\n",
        "\n",
        "#number of followers\n",
        "at10_no_of_followers=no_of_followers\n",
        "\n",
        "#number of follows\n",
        "at11_no_of_follows=user.number_of_followings\n",
        "print(at1_dp)\n",
        "print(at2_fullname_ntoc)\n",
        "print(at3_no_of_words_token)\n",
        "print(at4_username_ntoc)\n",
        "print(at5_un_fn_same)\n",
        "print(at6_bio_len)\n",
        "print(at7_has_url)\n",
        "print(at8_pvt)\n",
        "print(at9_no_of_posts)\n",
        "print(at10_no_of_followers)\n",
        "print(at11_no_of_follows)"
      ],
      "metadata": {
        "colab": {
          "base_uri": "https://localhost:8080/"
        },
        "id": "Z2TtQpt2kAb2",
        "outputId": "42d0523e-d832-44d1-c770-c780918c06eb"
      },
      "execution_count": null,
      "outputs": [
        {
          "output_type": "stream",
          "name": "stdout",
          "text": [
            "False\n",
            "nope\n",
            "no\n",
            "7\n",
            "Muhammed Rameez\n",
            "0\n",
            "3\n",
            "29\n",
            "True\n",
            "None\n",
            "https://instagram.fmxp2-2.fna.fbcdn.net/v/t51.2885-19/44884218_345707102882519_2446069589734326272_n.jpg?_nc_ht=instagram.fmxp2-2.fna.fbcdn.net&_nc_cat=1&_nc_ohc=qQm-VYggXIkAX-12262&edm=AId3EpQBAAAA&ccb=7-4&ig_cache_key=YW5vbnltb3VzX3Byb2ZpbGVfcGlj.2-ccb7-4&oh=00_AT9MT9bfA5ApbhHjrf8AkUXOjXhz7g1Q9uuOcq0Thuvzbg&oe=628B96CF&_nc_sid=705020\n",
            "The Dp of the account is InstaGram's Default one\n",
            "0\n",
            "0.0\n",
            "2\n",
            "0.18181818181818182\n",
            "0\n",
            "7\n",
            "0\n",
            "1\n",
            "0\n",
            "3\n",
            "29\n"
          ]
        }
      ]
    },
    {
      "cell_type": "code",
      "source": [
        "pred = evc.predict([[at1_dp,at2_fullname_ntoc,at3_no_of_words_token,at4_username_ntoc,at5_un_fn_same,at6_bio_len,at7_has_url,at8_pvt,at9_no_of_posts,at10_no_of_followers,at11_no_of_follows]])\n"
      ],
      "metadata": {
        "colab": {
          "base_uri": "https://localhost:8080/"
        },
        "id": "8FGjfK5okdLS",
        "outputId": "44d41178-ff76-49a6-90c9-884eb4046bf7"
      },
      "execution_count": null,
      "outputs": [
        {
          "output_type": "stream",
          "name": "stderr",
          "text": [
            "/usr/local/lib/python3.7/dist-packages/sklearn/base.py:451: UserWarning: X does not have valid feature names, but MLPClassifier was fitted with feature names\n",
            "  \"X does not have valid feature names, but\"\n",
            "/usr/local/lib/python3.7/dist-packages/sklearn/base.py:451: UserWarning: X does not have valid feature names, but DecisionTreeClassifier was fitted with feature names\n",
            "  \"X does not have valid feature names, but\"\n",
            "/usr/local/lib/python3.7/dist-packages/sklearn/base.py:451: UserWarning: X does not have valid feature names, but LinearSVC was fitted with feature names\n",
            "  \"X does not have valid feature names, but\"\n",
            "/usr/local/lib/python3.7/dist-packages/sklearn/base.py:451: UserWarning: X does not have valid feature names, but RandomForestClassifier was fitted with feature names\n",
            "  \"X does not have valid feature names, but\"\n",
            "/usr/local/lib/python3.7/dist-packages/sklearn/base.py:451: UserWarning: X does not have valid feature names, but GaussianNB was fitted with feature names\n",
            "  \"X does not have valid feature names, but\"\n",
            "/usr/local/lib/python3.7/dist-packages/sklearn/base.py:451: UserWarning: X does not have valid feature names, but KNeighborsClassifier was fitted with feature names\n",
            "  \"X does not have valid feature names, but\"\n"
          ]
        }
      ]
    },
    {
      "cell_type": "code",
      "source": [
        "if pred==0:\n",
        "  print(\"The account is genuine and authentic\")\n",
        "else:\n",
        "  print(\"The account is fake\")"
      ],
      "metadata": {
        "colab": {
          "base_uri": "https://localhost:8080/"
        },
        "id": "yF7OXB91k4TD",
        "outputId": "a4c42063-d0e5-4aca-d3cb-5d7ea80eb562"
      },
      "execution_count": null,
      "outputs": [
        {
          "output_type": "stream",
          "name": "stdout",
          "text": [
            "The account is fake\n"
          ]
        }
      ]
    },
    {
      "cell_type": "code",
      "source": [
        "import cv2\n",
        "import numpy as np\n",
        "import urllib\n",
        "url = \"https://scontent-iad3-2.cdninstagram.com/v/t51.2885-19/224959976_993081651464547_5795497114547961172_n.jpg?stp=dst-jpg_s320x320&_nc_ht=scontent-iad3-2.cdninstagram.com&_nc_cat=103&_nc_ohc=pWsk5vDNNDgAX-i5kSs&edm=ABfd0MgBAAAA&ccb=7-4&oh=00_AT884MMah5avZX2HK_B-YwZkAJMnw9LSwZEXy9EjM1r4Mg&oe=628C31B2&_nc_sid=7bff83\"\n",
        "url_response = urllib.request.urlopen(url)"
      ],
      "metadata": {
        "id": "zVE7rJMDrfoy"
      },
      "execution_count": null,
      "outputs": []
    },
    {
      "cell_type": "code",
      "source": [
        "\n",
        "img_array = np.array(bytearray(url_response.read()), dtype=np.uint8)\n",
        "#img = cv2.imdecode(img_array, -1)\n"
      ],
      "metadata": {
        "id": "qnmjoL1psIRs"
      },
      "execution_count": null,
      "outputs": []
    },
    {
      "cell_type": "code",
      "source": [
        "if original.shape == duplicate.shape:\n",
        " print(\"The images have same size and channels\")\n",
        "difference = cv2.subtract(original, duplicate)\n",
        "b, g, r = cv2.split(difference)\n",
        "if cv2.countNonZero(b) == 0 and cv2.countNonZero(g) == 0 and cv2.countNonZero(r) == 0:\n",
        " print(\"The images are completely Equal\")"
      ],
      "metadata": {
        "colab": {
          "base_uri": "https://localhost:8080/",
          "height": 235
        },
        "id": "UxnMuxXDrth-",
        "outputId": "6f506551-1759-4d0a-d095-b02c41d04a84"
      },
      "execution_count": null,
      "outputs": [
        {
          "output_type": "error",
          "ename": "NameError",
          "evalue": "ignored",
          "traceback": [
            "\u001b[0;31m---------------------------------------------------------------------------\u001b[0m",
            "\u001b[0;31mNameError\u001b[0m                                 Traceback (most recent call last)",
            "\u001b[0;32m<ipython-input-32-001de47cbed1>\u001b[0m in \u001b[0;36m<module>\u001b[0;34m()\u001b[0m\n\u001b[0;32m----> 1\u001b[0;31m \u001b[0;32mif\u001b[0m \u001b[0moriginal\u001b[0m\u001b[0;34m.\u001b[0m\u001b[0mshape\u001b[0m \u001b[0;34m==\u001b[0m \u001b[0mduplicate\u001b[0m\u001b[0;34m.\u001b[0m\u001b[0mshape\u001b[0m\u001b[0;34m:\u001b[0m\u001b[0;34m\u001b[0m\u001b[0;34m\u001b[0m\u001b[0m\n\u001b[0m\u001b[1;32m      2\u001b[0m  \u001b[0mprint\u001b[0m\u001b[0;34m(\u001b[0m\u001b[0;34m\"The images have same size and channels\"\u001b[0m\u001b[0;34m)\u001b[0m\u001b[0;34m\u001b[0m\u001b[0;34m\u001b[0m\u001b[0m\n\u001b[1;32m      3\u001b[0m \u001b[0mdifference\u001b[0m \u001b[0;34m=\u001b[0m \u001b[0mcv2\u001b[0m\u001b[0;34m.\u001b[0m\u001b[0msubtract\u001b[0m\u001b[0;34m(\u001b[0m\u001b[0moriginal\u001b[0m\u001b[0;34m,\u001b[0m \u001b[0mduplicate\u001b[0m\u001b[0;34m)\u001b[0m\u001b[0;34m\u001b[0m\u001b[0;34m\u001b[0m\u001b[0m\n\u001b[1;32m      4\u001b[0m \u001b[0mb\u001b[0m\u001b[0;34m,\u001b[0m \u001b[0mg\u001b[0m\u001b[0;34m,\u001b[0m \u001b[0mr\u001b[0m \u001b[0;34m=\u001b[0m \u001b[0mcv2\u001b[0m\u001b[0;34m.\u001b[0m\u001b[0msplit\u001b[0m\u001b[0;34m(\u001b[0m\u001b[0mdifference\u001b[0m\u001b[0;34m)\u001b[0m\u001b[0;34m\u001b[0m\u001b[0;34m\u001b[0m\u001b[0m\n\u001b[1;32m      5\u001b[0m \u001b[0;32mif\u001b[0m \u001b[0mcv2\u001b[0m\u001b[0;34m.\u001b[0m\u001b[0mcountNonZero\u001b[0m\u001b[0;34m(\u001b[0m\u001b[0mb\u001b[0m\u001b[0;34m)\u001b[0m \u001b[0;34m==\u001b[0m \u001b[0;36m0\u001b[0m \u001b[0;32mand\u001b[0m \u001b[0mcv2\u001b[0m\u001b[0;34m.\u001b[0m\u001b[0mcountNonZero\u001b[0m\u001b[0;34m(\u001b[0m\u001b[0mg\u001b[0m\u001b[0;34m)\u001b[0m \u001b[0;34m==\u001b[0m \u001b[0;36m0\u001b[0m \u001b[0;32mand\u001b[0m \u001b[0mcv2\u001b[0m\u001b[0;34m.\u001b[0m\u001b[0mcountNonZero\u001b[0m\u001b[0;34m(\u001b[0m\u001b[0mr\u001b[0m\u001b[0;34m)\u001b[0m \u001b[0;34m==\u001b[0m \u001b[0;36m0\u001b[0m\u001b[0;34m:\u001b[0m\u001b[0;34m\u001b[0m\u001b[0;34m\u001b[0m\u001b[0m\n",
            "\u001b[0;31mNameError\u001b[0m: name 'original' is not defined"
          ]
        }
      ]
    },
    {
      "cell_type": "code",
      "source": [
        "import cv2\n",
        "import numpy as np\n",
        "from PIL import Image\n",
        "urllib.request.urlretrieve(\"https://instagram.fevn6-1.fna.fbcdn.net/v/t51.2885-19/44884218_345707102882519_2446069589734326272_n.jpg?efg=eyJybWQiOiJpZ19hbmRyb2lkX21vYmlsZV9uZXR3b3JrX3N0YWNrX3JldHJ5X2Nvbm5lY3Rpb25fcmVmdXNlZDpjb250cm9sIn0&_nc_ht=instagram.fevn6-1.fna.fbcdn.net&_nc_cat=1&_nc_ohc=qQm-VYggXIkAX_du3Gr&edm=AEVnrqQBAAAA&ccb=7-4&ig_cache_key=YW5vbnltb3VzX3Byb2ZpbGVfcGlj.2-ccb7-4&oh=00_AT_fiEO5z_wGv1dShTa23qo42Dk01V_YgsDXiaLdCFmYmQ&oe=628B96CF&_nc_sid=3ae735\",\"ch1.jpg\")\n",
        "\n",
        "urllib.request.urlretrieve(\"https://scontent-iad3-2.cdninstagram.com/v/t51.2885-19/224959976_993081651464547_5795497114547961172_n.jpg?stp=dst-jpg_s320x320&_nc_ht=scontent-iad3-2.cdninstagram.com&_nc_cat=103&_nc_ohc=pWsk5vDNNDgAX-i5kSs&edm=ABfd0MgBAAAA&ccb=7-4&oh=00_AT884MMah5avZX2HK_B-YwZkAJMnw9LSwZEXy9EjM1r4Mg&oe=628C31B2&_nc_sid=7bff83\",\"ch2.jpg\")\n",
        "\n",
        "original = cv2.imread(\"ch1.jpg\")\n",
        "duplicate = cv2.imread(\"ch2.jpg\")\n",
        "\n",
        "if original.shape == duplicate.shape:\n",
        " print(\"The images have same size and channels\")\n",
        "else:\n",
        "  print(\"they are different\")\n"
      ],
      "metadata": {
        "colab": {
          "base_uri": "https://localhost:8080/"
        },
        "id": "M65JJbXuVcWv",
        "outputId": "5fe494a8-fbe5-4201-e0a8-0175a74f75ca"
      },
      "execution_count": null,
      "outputs": [
        {
          "output_type": "stream",
          "name": "stdout",
          "text": [
            "they are different\n"
          ]
        }
      ]
    },
    {
      "cell_type": "code",
      "source": [
        "\n",
        "\n",
        "\n",
        "from selenium import webdriver\n",
        "from selenium.webdriver.common.keys import Keys\n",
        "import time, urllib.request\n",
        "import requests\n",
        "import pyautogui\n",
        "def launchbrowser():\n",
        "    Path = r\"C:\\Users\\Muhammed Rameez\\Downloads\\chromedriver.exe\"\n",
        "    driver=webdriver.Chrome(Path)\n",
        "\n",
        "    driver.get(\"https://www.instagram.com/\")\n",
        "    return driver\n",
        "dr=launchbrowser()\n",
        "\n",
        "time.sleep(5)\n",
        "username=dr.find_element_by_css_selector(\"input[name='username']\")\n",
        "password=dr.find_element_by_css_selector(\"input[name='password']\")\n",
        "username.clear()\n",
        "password.clear()\n",
        "username.send_keys(\"nbot_indi14\")\n",
        "time.sleep(3)\n",
        "password.send_keys(\"Instapass14\")\n",
        "time.sleep(5)\n",
        "login = dr.find_element_by_css_selector(\"button[type='submit']\").click()\n",
        "\n",
        "time.sleep(10)\n",
        "notnow2 = dr.find_element_by_xpath(\"//button[contains(text(), 'Not Now')]\").click()\n",
        "\n",
        "#searchbox\n",
        "time.sleep(5)\n",
        "searchbox=dr.find_element_by_css_selector(\"input[placeholder='Search']\")\n",
        "searchbox.clear()\n",
        "searchbox.send_keys(\"03.1602827168\")\n",
        "time.sleep(5)\n",
        "searchbox.send_keys(Keys.ENTER)\n",
        "time.sleep(5)\n",
        "searchbox.send_keys(Keys.ENTER)\n",
        "# session_url = dr.command_executor._url\n",
        "\n",
        "# session_id = dr.session_id\n",
        "#\n",
        "# print(session_url)\n",
        "# print(session_id)\n",
        "\n",
        "#tripledot\n",
        "time.sleep(5)\n",
        "trip = dr.find_element_by_xpath('//*[@id=\"react-root\"]/section/main/div/header/section/div[1]/div/button').click()\n",
        "print(\"triple dot clicked\")\n",
        "\n",
        "#clicking report op\n",
        "time.sleep(4)\n",
        "blck = dr.find_element_by_xpath(\"//button[contains(text(),'Report')]\").click()\n",
        "\n",
        "#clicking report acc\n",
        "time.sleep(4)\n",
        "rep_acc = dr.find_element_by_xpath(\"/html/body/div[6]/div/div/div/div[2]/div/div/div/div[3]/button[2]\").click()\n",
        "\n",
        "\n",
        "#clicking 1st op\n",
        "time.sleep(3)\n",
        "op1 = dr.find_element_by_xpath(\"/html/body/div[6]/div/div/div/div[2]/div/div/div/div[3]/button\").click()\n",
        "\n",
        "#clicking its spam\n",
        "time.sleep(3)\n",
        "op2 = dr.find_element_by_xpath(\"/html/body/div[6]/div/div/div/div[2]/div/div/div/div[3]/button\").click()\n",
        "\n",
        "#close\n",
        "time.sleep(3)\n",
        "close = dr.find_element_by_xpath(\"//button[contains(text(),'Close')]\").click()\n",
        "\n",
        "#menu\n",
        "time.sleep(3)\n",
        "menu = dr.find_element_by_xpath(\"//nav/div[2]/div/div/div[3]/div/div[6]/div/span\").click()\n",
        "\n",
        "#logout\n",
        "time.sleep(3)\n",
        "logout = dr.find_element_by_xpath(\"//nav/div[2]/div/div/div[3]/div/div[6]/div[2]/div[2]/div[2]/div[2]/div\").click()\n",
        "\n",
        "#close the web driver tab\n",
        "time.sleep(3)\n",
        "pyautogui.keyDown('ctrl')\n",
        "time.sleep(0.25)\n",
        "pyautogui.keyDown('w')\n",
        "time.sleep(0.5)\n",
        "pyautogui.keyUp('ctrl')\n",
        "pyautogui.keyUp('w')"
      ],
      "metadata": {
        "id": "XsfW4RJkMHXd"
      },
      "execution_count": null,
      "outputs": []
    }
  ]
}
