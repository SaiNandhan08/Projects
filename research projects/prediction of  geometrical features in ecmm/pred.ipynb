{
  "nbformat": 4,
  "nbformat_minor": 0,
  "metadata": {
    "colab": {
      "provenance": []
    },
    "kernelspec": {
      "name": "python3",
      "display_name": "Python 3"
    },
    "language_info": {
      "name": "python"
    }
  },
  "cells": [
    {
      "cell_type": "code",
      "execution_count": null,
      "metadata": {
        "id": "6WXuZ8JM9wXF"
      },
      "outputs": [],
      "source": [
        "import pandas as pd\n",
        "import numpy as np"
      ]
    },
    {
      "cell_type": "code",
      "source": [
        "from google.colab import drive\n",
        "drive.mount('/content/drive')"
      ],
      "metadata": {
        "id": "y-CnA4_psw4a",
        "colab": {
          "base_uri": "https://localhost:8080/"
        },
        "outputId": "e3d40d36-0bdd-4a70-fc2f-3ed74f8959cf"
      },
      "execution_count": null,
      "outputs": [
        {
          "output_type": "stream",
          "name": "stdout",
          "text": [
            "Drive already mounted at /content/drive; to attempt to forcibly remount, call drive.mount(\"/content/drive\", force_remount=True).\n"
          ]
        }
      ]
    },
    {
      "cell_type": "code",
      "source": [
        "data = pd.read_csv('/content/drive/MyDrive/datasetmanu.csv')"
      ],
      "metadata": {
        "id": "IOK-h0Ru96a_"
      },
      "execution_count": null,
      "outputs": []
    },
    {
      "cell_type": "code",
      "source": [
        "data.reset_index(drop=True, inplace=True)\n",
        "#Good for Circularity\n",
        "#Worse for Conicity\n",
        "#Okay for Overcut"
      ],
      "metadata": {
        "id": "9oKFvXyt99Z-"
      },
      "execution_count": null,
      "outputs": []
    },
    {
      "cell_type": "code",
      "source": [
        "data\n",
        "y = data['Circularity']"
      ],
      "metadata": {
        "id": "TQ_yqM1G-ULT"
      },
      "execution_count": null,
      "outputs": []
    },
    {
      "cell_type": "code",
      "source": [
        "data.columns"
      ],
      "metadata": {
        "colab": {
          "base_uri": "https://localhost:8080/"
        },
        "id": "TqvRgUA9_3fR",
        "outputId": "de9dcddc-e70f-47fc-fb6e-5eeecb178e3e"
      },
      "execution_count": null,
      "outputs": [
        {
          "output_type": "execute_result",
          "data": {
            "text/plain": [
              "Index(['Expt.No', 'Electrolyte', 'Voltage', 'Feed Rate ', 'Duty cycle', 'MRR',\n",
              "       'Circularity', 'Conicity', 'Overcut'],\n",
              "      dtype='object')"
            ]
          },
          "metadata": {},
          "execution_count": 93
        }
      ]
    },
    {
      "cell_type": "code",
      "source": [
        "data1 = data.drop(['MRR','Overcut', 'Conicity'], axis = 1)"
      ],
      "metadata": {
        "id": "jnzY5C1v_67Q"
      },
      "execution_count": null,
      "outputs": []
    },
    {
      "cell_type": "code",
      "source": [
        "data"
      ],
      "metadata": {
        "colab": {
          "base_uri": "https://localhost:8080/",
          "height": 424
        },
        "id": "DD3Fh4LYAHwi",
        "outputId": "92a15340-40af-43e6-d3e5-d3b3fcc1fac6"
      },
      "execution_count": null,
      "outputs": [
        {
          "output_type": "execute_result",
          "data": {
            "text/plain": [
              "     Expt.No Electrolyte  Voltage  Feed Rate   Duty cycle      MRR  \\\n",
              "0          0         CPE        6         0.5         0.8  0.04060   \n",
              "1          1         CPE        8         0.6         0.7  0.05630   \n",
              "2          2         CPE        7         0.5         0.7  0.07160   \n",
              "3          3         CPE        6         0.5         0.6  0.04910   \n",
              "4          4         CPE        7         0.6         0.8  0.05020   \n",
              "..       ...         ...      ...         ...         ...      ...   \n",
              "380      380       NaNo3        7         0.6         0.7  0.00022   \n",
              "381      381       NaNo3        6         0.5         0.7  0.00026   \n",
              "382      382       NaNo3        7         0.6         0.6  0.00016   \n",
              "383      383       NaNo3        8         0.5         0.6  0.00019   \n",
              "384      384       NaNo3        8         0.5         0.8  0.00006   \n",
              "\n",
              "     Circularity  Conicity  Overcut  \n",
              "0          0.008     1.071   0.1950  \n",
              "1          0.016     1.883   0.0640  \n",
              "2          0.025     2.102   0.1325  \n",
              "3          0.010     0.357   0.3056  \n",
              "4          0.013     1.831   0.0683  \n",
              "..           ...       ...      ...  \n",
              "380        0.003     0.257   0.3269  \n",
              "381        0.002     0.194   0.3455  \n",
              "382        0.003     0.333   0.1651  \n",
              "383        0.004     0.518   0.2015  \n",
              "384        0.005     0.559   0.1929  \n",
              "\n",
              "[385 rows x 9 columns]"
            ],
            "text/html": [
              "\n",
              "  <div id=\"df-6efd0149-093f-4ac5-97d4-55edb0a096c4\">\n",
              "    <div class=\"colab-df-container\">\n",
              "      <div>\n",
              "<style scoped>\n",
              "    .dataframe tbody tr th:only-of-type {\n",
              "        vertical-align: middle;\n",
              "    }\n",
              "\n",
              "    .dataframe tbody tr th {\n",
              "        vertical-align: top;\n",
              "    }\n",
              "\n",
              "    .dataframe thead th {\n",
              "        text-align: right;\n",
              "    }\n",
              "</style>\n",
              "<table border=\"1\" class=\"dataframe\">\n",
              "  <thead>\n",
              "    <tr style=\"text-align: right;\">\n",
              "      <th></th>\n",
              "      <th>Expt.No</th>\n",
              "      <th>Electrolyte</th>\n",
              "      <th>Voltage</th>\n",
              "      <th>Feed Rate</th>\n",
              "      <th>Duty cycle</th>\n",
              "      <th>MRR</th>\n",
              "      <th>Circularity</th>\n",
              "      <th>Conicity</th>\n",
              "      <th>Overcut</th>\n",
              "    </tr>\n",
              "  </thead>\n",
              "  <tbody>\n",
              "    <tr>\n",
              "      <th>0</th>\n",
              "      <td>0</td>\n",
              "      <td>CPE</td>\n",
              "      <td>6</td>\n",
              "      <td>0.5</td>\n",
              "      <td>0.8</td>\n",
              "      <td>0.04060</td>\n",
              "      <td>0.008</td>\n",
              "      <td>1.071</td>\n",
              "      <td>0.1950</td>\n",
              "    </tr>\n",
              "    <tr>\n",
              "      <th>1</th>\n",
              "      <td>1</td>\n",
              "      <td>CPE</td>\n",
              "      <td>8</td>\n",
              "      <td>0.6</td>\n",
              "      <td>0.7</td>\n",
              "      <td>0.05630</td>\n",
              "      <td>0.016</td>\n",
              "      <td>1.883</td>\n",
              "      <td>0.0640</td>\n",
              "    </tr>\n",
              "    <tr>\n",
              "      <th>2</th>\n",
              "      <td>2</td>\n",
              "      <td>CPE</td>\n",
              "      <td>7</td>\n",
              "      <td>0.5</td>\n",
              "      <td>0.7</td>\n",
              "      <td>0.07160</td>\n",
              "      <td>0.025</td>\n",
              "      <td>2.102</td>\n",
              "      <td>0.1325</td>\n",
              "    </tr>\n",
              "    <tr>\n",
              "      <th>3</th>\n",
              "      <td>3</td>\n",
              "      <td>CPE</td>\n",
              "      <td>6</td>\n",
              "      <td>0.5</td>\n",
              "      <td>0.6</td>\n",
              "      <td>0.04910</td>\n",
              "      <td>0.010</td>\n",
              "      <td>0.357</td>\n",
              "      <td>0.3056</td>\n",
              "    </tr>\n",
              "    <tr>\n",
              "      <th>4</th>\n",
              "      <td>4</td>\n",
              "      <td>CPE</td>\n",
              "      <td>7</td>\n",
              "      <td>0.6</td>\n",
              "      <td>0.8</td>\n",
              "      <td>0.05020</td>\n",
              "      <td>0.013</td>\n",
              "      <td>1.831</td>\n",
              "      <td>0.0683</td>\n",
              "    </tr>\n",
              "    <tr>\n",
              "      <th>...</th>\n",
              "      <td>...</td>\n",
              "      <td>...</td>\n",
              "      <td>...</td>\n",
              "      <td>...</td>\n",
              "      <td>...</td>\n",
              "      <td>...</td>\n",
              "      <td>...</td>\n",
              "      <td>...</td>\n",
              "      <td>...</td>\n",
              "    </tr>\n",
              "    <tr>\n",
              "      <th>380</th>\n",
              "      <td>380</td>\n",
              "      <td>NaNo3</td>\n",
              "      <td>7</td>\n",
              "      <td>0.6</td>\n",
              "      <td>0.7</td>\n",
              "      <td>0.00022</td>\n",
              "      <td>0.003</td>\n",
              "      <td>0.257</td>\n",
              "      <td>0.3269</td>\n",
              "    </tr>\n",
              "    <tr>\n",
              "      <th>381</th>\n",
              "      <td>381</td>\n",
              "      <td>NaNo3</td>\n",
              "      <td>6</td>\n",
              "      <td>0.5</td>\n",
              "      <td>0.7</td>\n",
              "      <td>0.00026</td>\n",
              "      <td>0.002</td>\n",
              "      <td>0.194</td>\n",
              "      <td>0.3455</td>\n",
              "    </tr>\n",
              "    <tr>\n",
              "      <th>382</th>\n",
              "      <td>382</td>\n",
              "      <td>NaNo3</td>\n",
              "      <td>7</td>\n",
              "      <td>0.6</td>\n",
              "      <td>0.6</td>\n",
              "      <td>0.00016</td>\n",
              "      <td>0.003</td>\n",
              "      <td>0.333</td>\n",
              "      <td>0.1651</td>\n",
              "    </tr>\n",
              "    <tr>\n",
              "      <th>383</th>\n",
              "      <td>383</td>\n",
              "      <td>NaNo3</td>\n",
              "      <td>8</td>\n",
              "      <td>0.5</td>\n",
              "      <td>0.6</td>\n",
              "      <td>0.00019</td>\n",
              "      <td>0.004</td>\n",
              "      <td>0.518</td>\n",
              "      <td>0.2015</td>\n",
              "    </tr>\n",
              "    <tr>\n",
              "      <th>384</th>\n",
              "      <td>384</td>\n",
              "      <td>NaNo3</td>\n",
              "      <td>8</td>\n",
              "      <td>0.5</td>\n",
              "      <td>0.8</td>\n",
              "      <td>0.00006</td>\n",
              "      <td>0.005</td>\n",
              "      <td>0.559</td>\n",
              "      <td>0.1929</td>\n",
              "    </tr>\n",
              "  </tbody>\n",
              "</table>\n",
              "<p>385 rows × 9 columns</p>\n",
              "</div>\n",
              "      <button class=\"colab-df-convert\" onclick=\"convertToInteractive('df-6efd0149-093f-4ac5-97d4-55edb0a096c4')\"\n",
              "              title=\"Convert this dataframe to an interactive table.\"\n",
              "              style=\"display:none;\">\n",
              "        \n",
              "  <svg xmlns=\"http://www.w3.org/2000/svg\" height=\"24px\"viewBox=\"0 0 24 24\"\n",
              "       width=\"24px\">\n",
              "    <path d=\"M0 0h24v24H0V0z\" fill=\"none\"/>\n",
              "    <path d=\"M18.56 5.44l.94 2.06.94-2.06 2.06-.94-2.06-.94-.94-2.06-.94 2.06-2.06.94zm-11 1L8.5 8.5l.94-2.06 2.06-.94-2.06-.94L8.5 2.5l-.94 2.06-2.06.94zm10 10l.94 2.06.94-2.06 2.06-.94-2.06-.94-.94-2.06-.94 2.06-2.06.94z\"/><path d=\"M17.41 7.96l-1.37-1.37c-.4-.4-.92-.59-1.43-.59-.52 0-1.04.2-1.43.59L10.3 9.45l-7.72 7.72c-.78.78-.78 2.05 0 2.83L4 21.41c.39.39.9.59 1.41.59.51 0 1.02-.2 1.41-.59l7.78-7.78 2.81-2.81c.8-.78.8-2.07 0-2.86zM5.41 20L4 18.59l7.72-7.72 1.47 1.35L5.41 20z\"/>\n",
              "  </svg>\n",
              "      </button>\n",
              "      \n",
              "  <style>\n",
              "    .colab-df-container {\n",
              "      display:flex;\n",
              "      flex-wrap:wrap;\n",
              "      gap: 12px;\n",
              "    }\n",
              "\n",
              "    .colab-df-convert {\n",
              "      background-color: #E8F0FE;\n",
              "      border: none;\n",
              "      border-radius: 50%;\n",
              "      cursor: pointer;\n",
              "      display: none;\n",
              "      fill: #1967D2;\n",
              "      height: 32px;\n",
              "      padding: 0 0 0 0;\n",
              "      width: 32px;\n",
              "    }\n",
              "\n",
              "    .colab-df-convert:hover {\n",
              "      background-color: #E2EBFA;\n",
              "      box-shadow: 0px 1px 2px rgba(60, 64, 67, 0.3), 0px 1px 3px 1px rgba(60, 64, 67, 0.15);\n",
              "      fill: #174EA6;\n",
              "    }\n",
              "\n",
              "    [theme=dark] .colab-df-convert {\n",
              "      background-color: #3B4455;\n",
              "      fill: #D2E3FC;\n",
              "    }\n",
              "\n",
              "    [theme=dark] .colab-df-convert:hover {\n",
              "      background-color: #434B5C;\n",
              "      box-shadow: 0px 1px 3px 1px rgba(0, 0, 0, 0.15);\n",
              "      filter: drop-shadow(0px 1px 2px rgba(0, 0, 0, 0.3));\n",
              "      fill: #FFFFFF;\n",
              "    }\n",
              "  </style>\n",
              "\n",
              "      <script>\n",
              "        const buttonEl =\n",
              "          document.querySelector('#df-6efd0149-093f-4ac5-97d4-55edb0a096c4 button.colab-df-convert');\n",
              "        buttonEl.style.display =\n",
              "          google.colab.kernel.accessAllowed ? 'block' : 'none';\n",
              "\n",
              "        async function convertToInteractive(key) {\n",
              "          const element = document.querySelector('#df-6efd0149-093f-4ac5-97d4-55edb0a096c4');\n",
              "          const dataTable =\n",
              "            await google.colab.kernel.invokeFunction('convertToInteractive',\n",
              "                                                     [key], {});\n",
              "          if (!dataTable) return;\n",
              "\n",
              "          const docLinkHtml = 'Like what you see? Visit the ' +\n",
              "            '<a target=\"_blank\" href=https://colab.research.google.com/notebooks/data_table.ipynb>data table notebook</a>'\n",
              "            + ' to learn more about interactive tables.';\n",
              "          element.innerHTML = '';\n",
              "          dataTable['output_type'] = 'display_data';\n",
              "          await google.colab.output.renderOutput(dataTable, element);\n",
              "          const docLink = document.createElement('div');\n",
              "          docLink.innerHTML = docLinkHtml;\n",
              "          element.appendChild(docLink);\n",
              "        }\n",
              "      </script>\n",
              "    </div>\n",
              "  </div>\n",
              "  "
            ]
          },
          "metadata": {},
          "execution_count": 95
        }
      ]
    },
    {
      "cell_type": "code",
      "source": [
        "\"\"\"\n",
        "from sklearn.model_selection import KFold\n",
        "from sklearn.model_selection import RepeatedKFold\n",
        "kf = RepeatedKFold(n_splits=5, n_repeats=10, random_state=None)\n",
        "\n",
        "for train_index, test_index in kf.split(data):\n",
        "      print(\"Train:\", train_index, \"Validation:\",test_index)\n",
        "      X_train, X_test = data[train_index], data[test_index]\n",
        "      y_train, y_test = y[train_index], y[test_index]\n",
        "      \"\"\""
      ],
      "metadata": {
        "colab": {
          "base_uri": "https://localhost:8080/",
          "height": 56
        },
        "id": "baS7dGVwH84U",
        "outputId": "9d51ee85-7446-44e7-f0b7-735c2c0bed13"
      },
      "execution_count": null,
      "outputs": [
        {
          "output_type": "execute_result",
          "data": {
            "text/plain": [
              "'\\nfrom sklearn.model_selection import KFold \\nfrom sklearn.model_selection import RepeatedKFold\\nkf = RepeatedKFold(n_splits=5, n_repeats=10, random_state=None) \\n\\nfor train_index, test_index in kf.split(data):\\n      print(\"Train:\", train_index, \"Validation:\",test_index)\\n      X_train, X_test = data[train_index], data[test_index] \\n      y_train, y_test = y[train_index], y[test_index]\\n      '"
            ],
            "application/vnd.google.colaboratory.intrinsic+json": {
              "type": "string"
            }
          },
          "metadata": {},
          "execution_count": 47
        }
      ]
    },
    {
      "cell_type": "code",
      "source": [
        "data['Electrolyte'].unique()"
      ],
      "metadata": {
        "id": "M--yFdKeA8GB",
        "outputId": "850679d8-dc3e-4425-dfcf-ba3aacfd4f8c",
        "colab": {
          "base_uri": "https://localhost:8080/"
        }
      },
      "execution_count": null,
      "outputs": [
        {
          "output_type": "execute_result",
          "data": {
            "text/plain": [
              "array(['CPE', 'NaCl', 'NaNo3'], dtype=object)"
            ]
          },
          "metadata": {},
          "execution_count": 96
        }
      ]
    },
    {
      "cell_type": "code",
      "source": [
        "data['Electrolyte'] = data['Electrolyte'].map({'NaCl': 1, 'NaNo3': 2, 'CPE' : 3})"
      ],
      "metadata": {
        "id": "E82m7xKpAdMx"
      },
      "execution_count": null,
      "outputs": []
    },
    {
      "cell_type": "code",
      "source": [
        "from sklearn import linear_model"
      ],
      "metadata": {
        "id": "mIUYWSzBBIVN"
      },
      "execution_count": null,
      "outputs": []
    },
    {
      "cell_type": "code",
      "source": [
        "x = data.loc[:, ['Expt.No', 'Electrolyte', 'Voltage', 'Feed Rate ']]"
      ],
      "metadata": {
        "id": "OGVoEC3PBXQO"
      },
      "execution_count": null,
      "outputs": []
    },
    {
      "cell_type": "code",
      "source": [
        "y = data['Circularity']"
      ],
      "metadata": {
        "id": "0EcfPxI5B4vq"
      },
      "execution_count": null,
      "outputs": []
    },
    {
      "cell_type": "code",
      "source": [
        "print(x)"
      ],
      "metadata": {
        "colab": {
          "base_uri": "https://localhost:8080/"
        },
        "id": "dnpTiiBSHluV",
        "outputId": "1cf55aff-d4de-46d4-95c3-9812d0e49906"
      },
      "execution_count": null,
      "outputs": [
        {
          "output_type": "stream",
          "name": "stdout",
          "text": [
            "     Expt.No  Electrolyte  Voltage  Feed Rate \n",
            "0          0            3        6         0.5\n",
            "1          1            3        8         0.6\n",
            "2          2            3        7         0.5\n",
            "3          3            3        6         0.5\n",
            "4          4            3        7         0.6\n",
            "..       ...          ...      ...         ...\n",
            "380      380            2        7         0.6\n",
            "381      381            2        6         0.5\n",
            "382      382            2        7         0.6\n",
            "383      383            2        8         0.5\n",
            "384      384            2        8         0.5\n",
            "\n",
            "[385 rows x 4 columns]\n"
          ]
        }
      ]
    },
    {
      "cell_type": "code",
      "source": [
        "model = linear_model.LinearRegression()\n",
        "model.fit(x, y)"
      ],
      "metadata": {
        "colab": {
          "base_uri": "https://localhost:8080/"
        },
        "id": "HWscVO_LCZLb",
        "outputId": "ae93246b-0a08-4538-83ea-e04f62f02819"
      },
      "execution_count": null,
      "outputs": [
        {
          "output_type": "execute_result",
          "data": {
            "text/plain": [
              "LinearRegression()"
            ]
          },
          "metadata": {},
          "execution_count": 104
        }
      ]
    },
    {
      "cell_type": "code",
      "source": [
        "import matplotlib.pyplot as plt"
      ],
      "metadata": {
        "id": "NQFtUwu0DdFk"
      },
      "execution_count": null,
      "outputs": []
    },
    {
      "cell_type": "code",
      "source": [
        "from sklearn.model_selection import train_test_split\n",
        "x_train, x_test, y_train, y_test = train_test_split(x, y, test_size=0.3)"
      ],
      "metadata": {
        "id": "7Q6yCZ7BDwK1"
      },
      "execution_count": null,
      "outputs": []
    },
    {
      "cell_type": "code",
      "source": [
        " expected = []\n",
        " for ele in y_test:\n",
        "   expected.append(ele)"
      ],
      "metadata": {
        "id": "bpBMvULNESmt"
      },
      "execution_count": null,
      "outputs": []
    },
    {
      "cell_type": "code",
      "source": [
        "from sklearn.metrics import mean_squared_error\n",
        "from sklearn.linear_model import LinearRegression\n",
        "regressor = LinearRegression()\n",
        "regressor.fit(x_train,y_train)\n",
        "predicted = regressor.predict(x_test)\n",
        "np.sqrt(mean_squared_error(y_test, predicted))"
      ],
      "metadata": {
        "id": "FUdocXbMC08K",
        "colab": {
          "base_uri": "https://localhost:8080/"
        },
        "outputId": "57705b9e-6203-44cf-946d-7158523aec40"
      },
      "execution_count": null,
      "outputs": [
        {
          "output_type": "execute_result",
          "data": {
            "text/plain": [
              "0.005650659123731773"
            ]
          },
          "metadata": {},
          "execution_count": 108
        }
      ]
    },
    {
      "cell_type": "code",
      "source": [
        "print(y_test)"
      ],
      "metadata": {
        "id": "R0-tK8NFDeDp",
        "colab": {
          "base_uri": "https://localhost:8080/"
        },
        "outputId": "6921046a-ea24-4a92-f937-25f37049d149"
      },
      "execution_count": null,
      "outputs": [
        {
          "output_type": "stream",
          "name": "stdout",
          "text": [
            "17     0.011\n",
            "211    0.011\n",
            "355    0.004\n",
            "102    0.018\n",
            "125    0.006\n",
            "       ...  \n",
            "0      0.008\n",
            "326    0.003\n",
            "255    0.004\n",
            "268    0.001\n",
            "93     0.018\n",
            "Name: Circularity, Length: 116, dtype: float64\n"
          ]
        }
      ]
    },
    {
      "cell_type": "code",
      "source": [
        "print(predicted)"
      ],
      "metadata": {
        "id": "aAuTdNPHF_4_",
        "colab": {
          "base_uri": "https://localhost:8080/"
        },
        "outputId": "64e73989-237e-4bb1-dd45-b4154585053c"
      },
      "execution_count": null,
      "outputs": [
        {
          "output_type": "stream",
          "name": "stdout",
          "text": [
            "[ 2.17284428e-02  7.81574737e-03  1.95487166e-03  1.60978007e-02\n",
            "  1.58477825e-02  8.36968538e-03  6.58331636e-03  1.02699037e-02\n",
            "  8.33152207e-03  2.02623724e-02  1.51854007e-02  7.63097703e-03\n",
            "  6.96659546e-03  9.32868691e-03  1.72108146e-02  1.30080796e-02\n",
            "  1.49628401e-02  7.65276145e-03  1.33990317e-02  5.37029695e-03\n",
            "  9.66206411e-03  5.61464201e-03  7.33246279e-03  3.96920685e-03\n",
            "  8.41628694e-03  8.32622191e-03  2.41107165e-03  4.05083362e-03\n",
            "  1.15908783e-02  5.06070399e-03  1.95782062e-02  1.85737414e-02\n",
            "  1.08944951e-02  1.83293964e-02  1.24868994e-02  1.31859331e-02\n",
            "  7.61827149e-03  9.52075724e-03  3.66728690e-03  2.11908836e-02\n",
            "  1.82805274e-02  6.28783484e-03  1.13343162e-02  6.10533195e-03\n",
            "  4.60450401e-03  4.41470113e-03  4.83273781e-03  2.44896732e-03\n",
            "  6.02737853e-03  1.46207570e-02  9.65098539e-03  5.07178271e-03\n",
            "  5.78303347e-03  7.03924872e-03  1.40507077e-02  2.55200551e-03\n",
            "  2.26446461e-03  8.21740517e-03  1.06283656e-02  8.46742340e-03\n",
            "  2.03005357e-02  4.70224203e-03  5.10086712e-03  2.16672659e-03\n",
            "  8.98319811e-03  5.89347702e-03  8.39146980e-03  1.86253918e-03\n",
            "  5.81211788e-03  8.54337700e-03  9.48799948e-03  2.14027386e-02\n",
            "  7.60389244e-03  7.08811773e-03  1.14591388e-02  9.19478541e-03\n",
            "  3.82744872e-05  9.21656983e-03  1.71240499e-02  1.88615500e-02\n",
            "  1.39189683e-02  8.64652057e-03  7.51182759e-03  1.41755304e-02\n",
            "  5.63075326e-03  1.46317303e-02  2.05448808e-02  9.50978390e-03\n",
            "  6.19029457e-04  1.71729190e-02  6.36946161e-03  9.55324737e-03\n",
            "  1.78082161e-02  9.52616278e-03  1.79220654e-02  1.24201402e-02\n",
            "  1.89158245e-02 -4.83173391e-04  2.22335118e-02  1.84542190e-02\n",
            "  7.13158120e-03  6.59202224e-03  1.49303500e-02  2.59557436e-03\n",
            "  2.02948625e-02  1.42625627e-02  7.97646583e-03  2.24614780e-02\n",
            "  8.43266582e-03  6.88723614e-03  1.69392796e-02  2.19564090e-02\n",
            "  1.29248992e-03  4.15938274e-03  8.28605878e-03  1.86172049e-02]\n"
          ]
        }
      ]
    },
    {
      "cell_type": "code",
      "source": [
        "import seaborn as sns\n",
        "from matplotlib import pyplot as plt"
      ],
      "metadata": {
        "id": "t3DSX272IHBG"
      },
      "execution_count": null,
      "outputs": []
    },
    {
      "cell_type": "code",
      "source": [
        "sns.regplot(x = y_test, y = predicted, color = 'pink',ci=95)\n",
        "plt.show()"
      ],
      "metadata": {
        "id": "rpepJM5KGNC0",
        "colab": {
          "base_uri": "https://localhost:8080/",
          "height": 279
        },
        "outputId": "29852be3-9d11-4476-cd1d-eca6f2187898"
      },
      "execution_count": null,
      "outputs": [
        {
          "output_type": "display_data",
          "data": {
            "text/plain": [
              "<Figure size 432x288 with 1 Axes>"
            ],
            "image/png": "[encoded data removed]"
          },
          "metadata": {
            "needs_background": "light"
          }
        }
      ]
    },
    {
      "cell_type": "code",
      "source": [
        "print(len(predicted))\n",
        "print(len(expected))"
      ],
      "metadata": {
        "colab": {
          "base_uri": "https://localhost:8080/"
        },
        "id": "pOelgGSPLm2f",
        "outputId": "c6e4be6a-64fb-4815-a5b8-256f23cabba6"
      },
      "execution_count": null,
      "outputs": [
        {
          "output_type": "stream",
          "name": "stdout",
          "text": [
            "116\n",
            "116\n"
          ]
        }
      ]
    },
    {
      "cell_type": "code",
      "source": [
        "from matplotlib import pyplot\n",
        "errors = []\n",
        "for i in range(len(expected)):\n",
        "\t# calculate error\n",
        "  print(i, expected[i])\n",
        "  err = ((expected[i] - predicted[i])**2)\n",
        "  err=math.sqrt(err)\n",
        "\t# store error\n",
        "  errors.append(err)\n",
        "\t# report error\n",
        "  print('>%.1f, %.1f = %.3f' % (expected[i], predicted[i], err))\n",
        "# plot errors\n",
        "pyplot.plot(errors,color='pink')\n",
        "pyplot.xticks(ticks=[i for i in range(len(expected))])\n",
        "pyplot.xlabel('Predicted Value',)\n",
        "pyplot.ylabel('Root Mean Squared Error',color='blue')\n",
        "pyplot.show()"
      ],
      "metadata": {
        "id": "5kV701MfILf-",
        "colab": {
          "base_uri": "https://localhost:8080/",
          "height": 1000
        },
        "outputId": "455dd1ca-3441-4b03-d692-7a283ffc0cf1"
      },
      "execution_count": null,
      "outputs": [
        {
          "output_type": "stream",
          "name": "stdout",
          "text": [
            "0 0.011\n",
            ">0.0, 0.0 = 0.011\n",
            "1 0.011\n",
            ">0.0, 0.0 = 0.003\n",
            "2 0.004\n",
            ">0.0, 0.0 = 0.002\n",
            "3 0.018\n",
            ">0.0, 0.0 = 0.002\n",
            "4 0.006\n",
            ">0.0, 0.0 = 0.010\n",
            "5 0.012\n",
            ">0.0, 0.0 = 0.004\n",
            "6 0.004\n",
            ">0.0, 0.0 = 0.003\n",
            "7 0.012\n",
            ">0.0, 0.0 = 0.002\n",
            "8 0.012\n",
            ">0.0, 0.0 = 0.004\n",
            "9 0.007\n",
            ">0.0, 0.0 = 0.013\n",
            "10 0.011\n",
            ">0.0, 0.0 = 0.004\n",
            "11 0.007\n",
            ">0.0, 0.0 = 0.001\n",
            "12 0.003\n",
            ">0.0, 0.0 = 0.004\n",
            "13 0.006\n",
            ">0.0, 0.0 = 0.003\n",
            "14 0.024\n",
            ">0.0, 0.0 = 0.007\n",
            "15 0.014\n",
            ">0.0, 0.0 = 0.001\n",
            "16 0.004\n",
            ">0.0, 0.0 = 0.011\n",
            "17 0.013\n",
            ">0.0, 0.0 = 0.005\n",
            "18 0.014\n",
            ">0.0, 0.0 = 0.001\n",
            "19 0.002\n",
            ">0.0, 0.0 = 0.003\n",
            "20 0.001\n",
            ">0.0, 0.0 = 0.009\n",
            "21 0.002\n",
            ">0.0, 0.0 = 0.004\n",
            "22 0.009\n",
            ">0.0, 0.0 = 0.002\n",
            "23 0.003\n",
            ">0.0, 0.0 = 0.001\n",
            "24 0.002\n",
            ">0.0, 0.0 = 0.006\n",
            "25 0.014\n",
            ">0.0, 0.0 = 0.006\n",
            "26 0.002\n",
            ">0.0, 0.0 = 0.000\n",
            "27 0.003\n",
            ">0.0, 0.0 = 0.001\n",
            "28 0.007\n",
            ">0.0, 0.0 = 0.005\n",
            "29 0.004\n",
            ">0.0, 0.0 = 0.001\n",
            "30 0.027\n",
            ">0.0, 0.0 = 0.007\n",
            "31 0.017\n",
            ">0.0, 0.0 = 0.002\n",
            "32 0.011\n",
            ">0.0, 0.0 = 0.000\n",
            "33 0.023\n",
            ">0.0, 0.0 = 0.005\n",
            "34 0.002\n",
            ">0.0, 0.0 = 0.010\n",
            "35 0.018\n",
            ">0.0, 0.0 = 0.005\n",
            "36 0.003\n",
            ">0.0, 0.0 = 0.005\n",
            "37 0.014\n",
            ">0.0, 0.0 = 0.004\n",
            "38 0.004\n",
            ">0.0, 0.0 = 0.000\n",
            "39 0.034\n",
            ">0.0, 0.0 = 0.013\n",
            "40 0.013\n",
            ">0.0, 0.0 = 0.005\n",
            "41 0.001\n",
            ">0.0, 0.0 = 0.005\n",
            "42 0.008\n",
            ">0.0, 0.0 = 0.003\n",
            "43 0.009\n",
            ">0.0, 0.0 = 0.003\n",
            "44 0.002\n",
            ">0.0, 0.0 = 0.003\n",
            "45 0.004\n",
            ">0.0, 0.0 = 0.000\n",
            "46 0.005\n",
            ">0.0, 0.0 = 0.000\n",
            "47 0.002\n",
            ">0.0, 0.0 = 0.000\n",
            "48 0.002\n",
            ">0.0, 0.0 = 0.004\n",
            "49 0.021\n",
            ">0.0, 0.0 = 0.006\n",
            "50 0.008\n",
            ">0.0, 0.0 = 0.002\n",
            "51 0.003\n",
            ">0.0, 0.0 = 0.002\n",
            "52 0.004\n",
            ">0.0, 0.0 = 0.002\n",
            "53 0.003\n",
            ">0.0, 0.0 = 0.004\n",
            "54 0.004\n",
            ">0.0, 0.0 = 0.010\n",
            "55 0.001\n",
            ">0.0, 0.0 = 0.002\n",
            "56 0.004\n",
            ">0.0, 0.0 = 0.002\n",
            "57 0.006\n",
            ">0.0, 0.0 = 0.002\n",
            "58 0.008\n",
            ">0.0, 0.0 = 0.003\n",
            "59 0.011\n",
            ">0.0, 0.0 = 0.003\n",
            "60 0.007\n",
            ">0.0, 0.0 = 0.013\n",
            "61 0.003\n",
            ">0.0, 0.0 = 0.002\n",
            "62 0.015\n",
            ">0.0, 0.0 = 0.010\n",
            "63 0.004\n",
            ">0.0, 0.0 = 0.002\n",
            "64 0.016\n",
            ">0.0, 0.0 = 0.007\n",
            "65 0.005\n",
            ">0.0, 0.0 = 0.001\n",
            "66 0.003\n",
            ">0.0, 0.0 = 0.005\n",
            "67 0.002\n",
            ">0.0, 0.0 = 0.000\n",
            "68 0.011\n",
            ">0.0, 0.0 = 0.005\n",
            "69 0.009\n",
            ">0.0, 0.0 = 0.000\n",
            "70 0.014\n",
            ">0.0, 0.0 = 0.005\n",
            "71 0.009\n",
            ">0.0, 0.0 = 0.012\n",
            "72 0.006\n",
            ">0.0, 0.0 = 0.002\n",
            "73 0.009\n",
            ">0.0, 0.0 = 0.002\n",
            "74 0.014\n",
            ">0.0, 0.0 = 0.003\n",
            "75 0.009\n",
            ">0.0, 0.0 = 0.000\n",
            "76 0.004\n",
            ">0.0, 0.0 = 0.004\n",
            "77 0.007\n",
            ">0.0, 0.0 = 0.002\n",
            "78 0.023\n",
            ">0.0, 0.0 = 0.006\n",
            "79 0.008\n",
            ">0.0, 0.0 = 0.011\n",
            "80 0.019\n",
            ">0.0, 0.0 = 0.005\n",
            "81 0.004\n",
            ">0.0, 0.0 = 0.005\n",
            "82 0.013\n",
            ">0.0, 0.0 = 0.005\n",
            "83 0.027\n",
            ">0.0, 0.0 = 0.013\n",
            "84 0.004\n",
            ">0.0, 0.0 = 0.002\n",
            "85 0.005\n",
            ">0.0, 0.0 = 0.010\n",
            "86 0.02\n",
            ">0.0, 0.0 = 0.001\n",
            "87 0.013\n",
            ">0.0, 0.0 = 0.003\n",
            "88 0.002\n",
            ">0.0, 0.0 = 0.001\n",
            "89 0.024\n",
            ">0.0, 0.0 = 0.007\n",
            "90 0.003\n",
            ">0.0, 0.0 = 0.003\n",
            "91 0.014\n",
            ">0.0, 0.0 = 0.004\n",
            "92 0.016\n",
            ">0.0, 0.0 = 0.002\n",
            "93 0.013\n",
            ">0.0, 0.0 = 0.003\n",
            "94 0.015\n",
            ">0.0, 0.0 = 0.003\n",
            "95 0.008\n",
            ">0.0, 0.0 = 0.004\n",
            "96 0.021\n",
            ">0.0, 0.0 = 0.002\n",
            "97 0.001\n",
            ">0.0, -0.0 = 0.001\n",
            "98 0.008\n",
            ">0.0, 0.0 = 0.014\n",
            "99 0.024\n",
            ">0.0, 0.0 = 0.006\n",
            "100 0.012\n",
            ">0.0, 0.0 = 0.005\n",
            "101 0.005\n",
            ">0.0, 0.0 = 0.002\n",
            "102 0.025\n",
            ">0.0, 0.0 = 0.010\n",
            "103 0.001\n",
            ">0.0, 0.0 = 0.002\n",
            "104 0.014\n",
            ">0.0, 0.0 = 0.006\n",
            "105 0.01\n",
            ">0.0, 0.0 = 0.004\n",
            "106 0.003\n",
            ">0.0, 0.0 = 0.005\n",
            "107 0.025\n",
            ">0.0, 0.0 = 0.003\n",
            "108 0.003\n",
            ">0.0, 0.0 = 0.005\n",
            "109 0.014\n",
            ">0.0, 0.0 = 0.007\n",
            "110 0.027\n",
            ">0.0, 0.0 = 0.010\n",
            "111 0.008\n",
            ">0.0, 0.0 = 0.014\n",
            "112 0.003\n",
            ">0.0, 0.0 = 0.002\n",
            "113 0.004\n",
            ">0.0, 0.0 = 0.000\n",
            "114 0.001\n",
            ">0.0, 0.0 = 0.007\n",
            "115 0.018\n",
            ">0.0, 0.0 = 0.001\n"
          ]
        },
        {
          "output_type": "display_data",
          "data": {
            "text/plain": [
              "<Figure size 432x288 with 1 Axes>"
            ],
            "image/png": "[encoded data removed]"
          },
          "metadata": {
            "needs_background": "light"
          }
        }
      ]
    },
    {
      "cell_type": "code",
      "source": [
        "#Conicity\n",
        "from sklearn.metrics import r2_score\n",
        "r2_score(expected, predicted)\n",
        "plot"
      ],
      "metadata": {
        "id": "X2WQRjRKLVuQ",
        "colab": {
          "base_uri": "https://localhost:8080/",
          "height": 200
        },
        "outputId": "5664b1d3-da57-4ea0-e400-07ce8039af2a"
      },
      "execution_count": null,
      "outputs": [
        {
          "output_type": "error",
          "ename": "NameError",
          "evalue": "ignored",
          "traceback": [
            "\u001b[0;31m---------------------------------------------------------------------------\u001b[0m",
            "\u001b[0;31mNameError\u001b[0m                                 Traceback (most recent call last)",
            "\u001b[0;32m<ipython-input-86-fe3f9e478a83>\u001b[0m in \u001b[0;36m<module>\u001b[0;34m\u001b[0m\n\u001b[1;32m      2\u001b[0m \u001b[0;32mfrom\u001b[0m \u001b[0msklearn\u001b[0m\u001b[0;34m.\u001b[0m\u001b[0mmetrics\u001b[0m \u001b[0;32mimport\u001b[0m \u001b[0mr2_score\u001b[0m\u001b[0;34m\u001b[0m\u001b[0;34m\u001b[0m\u001b[0m\n\u001b[1;32m      3\u001b[0m \u001b[0mr2_score\u001b[0m\u001b[0;34m(\u001b[0m\u001b[0mexpected\u001b[0m\u001b[0;34m,\u001b[0m \u001b[0mpredicted\u001b[0m\u001b[0;34m)\u001b[0m\u001b[0;34m\u001b[0m\u001b[0;34m\u001b[0m\u001b[0m\n\u001b[0;32m----> 4\u001b[0;31m \u001b[0mplot\u001b[0m\u001b[0;34m\u001b[0m\u001b[0;34m\u001b[0m\u001b[0m\n\u001b[0m",
            "\u001b[0;31mNameError\u001b[0m: name 'plot' is not defined"
          ]
        }
      ]
    },
    {
      "cell_type": "code",
      "source": [
        "errors = []\n",
        "for i in range(len(expected)):\n",
        "\t# calculate error\n",
        "  print(i, expected[i])\n",
        "  err = (expected[i] - predicted[i])**2\n",
        "\t# store error\n",
        "  errors.append(err)\n",
        "\t# report error\n",
        "  print('>%.1f, %.1f = %.3f' % (expected[i], predicted[i], err))\n",
        "  sns.jointplot()"
      ],
      "metadata": {
        "id": "vo2Hy9fFGPPz"
      },
      "execution_count": null,
      "outputs": []
    },
    {
      "cell_type": "code",
      "source": [
        "#Circularity\n",
        "r2_score(expected, predicted)"
      ],
      "metadata": {
        "colab": {
          "base_uri": "https://localhost:8080/"
        },
        "id": "M4WHrLRVLwXm",
        "outputId": "af22a0e7-a314-4bbe-b1f2-9b71c355556d"
      },
      "execution_count": null,
      "outputs": [
        {
          "output_type": "execute_result",
          "data": {
            "text/plain": [
              "0.40856384332206563"
            ]
          },
          "metadata": {},
          "execution_count": 116
        }
      ]
    },
    {
      "cell_type": "code",
      "source": [
        "#Overcut\n",
        "r2_score(expected, predicted)"
      ],
      "metadata": {
        "colab": {
          "base_uri": "https://localhost:8080/"
        },
        "id": "QhBKHuvANiW3",
        "outputId": "332cdc00-77d4-45c0-c492-46b682cbb1a2"
      },
      "execution_count": null,
      "outputs": [
        {
          "output_type": "execute_result",
          "data": {
            "text/plain": [
              "0.5197427615924188"
            ]
          },
          "metadata": {},
          "execution_count": 28
        }
      ]
    },
    {
      "cell_type": "code",
      "source": [
        "x_train\n"
      ],
      "metadata": {
        "id": "ub6FC6qhNsg5",
        "colab": {
          "base_uri": "https://localhost:8080/",
          "height": 424
        },
        "outputId": "82012e4e-43a1-49cf-dcf6-228202903f80"
      },
      "execution_count": null,
      "outputs": [
        {
          "output_type": "execute_result",
          "data": {
            "text/plain": [
              "     Expt.No  Electrolyte  Voltage  Feed Rate \n",
              "93        93            3        8         0.5\n",
              "238      238            1        6         0.6\n",
              "203      203            1        6         0.6\n",
              "357      357            2        7         0.6\n",
              "370      370            2        6         0.6\n",
              "..       ...          ...      ...         ...\n",
              "354      354            2        8         0.5\n",
              "237      237            1        7         0.7\n",
              "64        64            3        6         0.6\n",
              "281      281            2        6         0.6\n",
              "199      199            1        6         0.7\n",
              "\n",
              "[269 rows x 4 columns]"
            ],
            "text/html": [
              "\n",
              "  <div id=\"df-b8305b07-73c8-4c3b-a619-24a82bb9f367\">\n",
              "    <div class=\"colab-df-container\">\n",
              "      <div>\n",
              "<style scoped>\n",
              "    .dataframe tbody tr th:only-of-type {\n",
              "        vertical-align: middle;\n",
              "    }\n",
              "\n",
              "    .dataframe tbody tr th {\n",
              "        vertical-align: top;\n",
              "    }\n",
              "\n",
              "    .dataframe thead th {\n",
              "        text-align: right;\n",
              "    }\n",
              "</style>\n",
              "<table border=\"1\" class=\"dataframe\">\n",
              "  <thead>\n",
              "    <tr style=\"text-align: right;\">\n",
              "      <th></th>\n",
              "      <th>Expt.No</th>\n",
              "      <th>Electrolyte</th>\n",
              "      <th>Voltage</th>\n",
              "      <th>Feed Rate</th>\n",
              "    </tr>\n",
              "  </thead>\n",
              "  <tbody>\n",
              "    <tr>\n",
              "      <th>93</th>\n",
              "      <td>93</td>\n",
              "      <td>3</td>\n",
              "      <td>8</td>\n",
              "      <td>0.5</td>\n",
              "    </tr>\n",
              "    <tr>\n",
              "      <th>238</th>\n",
              "      <td>238</td>\n",
              "      <td>1</td>\n",
              "      <td>6</td>\n",
              "      <td>0.6</td>\n",
              "    </tr>\n",
              "    <tr>\n",
              "      <th>203</th>\n",
              "      <td>203</td>\n",
              "      <td>1</td>\n",
              "      <td>6</td>\n",
              "      <td>0.6</td>\n",
              "    </tr>\n",
              "    <tr>\n",
              "      <th>357</th>\n",
              "      <td>357</td>\n",
              "      <td>2</td>\n",
              "      <td>7</td>\n",
              "      <td>0.6</td>\n",
              "    </tr>\n",
              "    <tr>\n",
              "      <th>370</th>\n",
              "      <td>370</td>\n",
              "      <td>2</td>\n",
              "      <td>6</td>\n",
              "      <td>0.6</td>\n",
              "    </tr>\n",
              "    <tr>\n",
              "      <th>...</th>\n",
              "      <td>...</td>\n",
              "      <td>...</td>\n",
              "      <td>...</td>\n",
              "      <td>...</td>\n",
              "    </tr>\n",
              "    <tr>\n",
              "      <th>354</th>\n",
              "      <td>354</td>\n",
              "      <td>2</td>\n",
              "      <td>8</td>\n",
              "      <td>0.5</td>\n",
              "    </tr>\n",
              "    <tr>\n",
              "      <th>237</th>\n",
              "      <td>237</td>\n",
              "      <td>1</td>\n",
              "      <td>7</td>\n",
              "      <td>0.7</td>\n",
              "    </tr>\n",
              "    <tr>\n",
              "      <th>64</th>\n",
              "      <td>64</td>\n",
              "      <td>3</td>\n",
              "      <td>6</td>\n",
              "      <td>0.6</td>\n",
              "    </tr>\n",
              "    <tr>\n",
              "      <th>281</th>\n",
              "      <td>281</td>\n",
              "      <td>2</td>\n",
              "      <td>6</td>\n",
              "      <td>0.6</td>\n",
              "    </tr>\n",
              "    <tr>\n",
              "      <th>199</th>\n",
              "      <td>199</td>\n",
              "      <td>1</td>\n",
              "      <td>6</td>\n",
              "      <td>0.7</td>\n",
              "    </tr>\n",
              "  </tbody>\n",
              "</table>\n",
              "<p>269 rows × 4 columns</p>\n",
              "</div>\n",
              "      <button class=\"colab-df-convert\" onclick=\"convertToInteractive('df-b8305b07-73c8-4c3b-a619-24a82bb9f367')\"\n",
              "              title=\"Convert this dataframe to an interactive table.\"\n",
              "              style=\"display:none;\">\n",
              "        \n",
              "  <svg xmlns=\"http://www.w3.org/2000/svg\" height=\"24px\"viewBox=\"0 0 24 24\"\n",
              "       width=\"24px\">\n",
              "    <path d=\"M0 0h24v24H0V0z\" fill=\"none\"/>\n",
              "    <path d=\"M18.56 5.44l.94 2.06.94-2.06 2.06-.94-2.06-.94-.94-2.06-.94 2.06-2.06.94zm-11 1L8.5 8.5l.94-2.06 2.06-.94-2.06-.94L8.5 2.5l-.94 2.06-2.06.94zm10 10l.94 2.06.94-2.06 2.06-.94-2.06-.94-.94-2.06-.94 2.06-2.06.94z\"/><path d=\"M17.41 7.96l-1.37-1.37c-.4-.4-.92-.59-1.43-.59-.52 0-1.04.2-1.43.59L10.3 9.45l-7.72 7.72c-.78.78-.78 2.05 0 2.83L4 21.41c.39.39.9.59 1.41.59.51 0 1.02-.2 1.41-.59l7.78-7.78 2.81-2.81c.8-.78.8-2.07 0-2.86zM5.41 20L4 18.59l7.72-7.72 1.47 1.35L5.41 20z\"/>\n",
              "  </svg>\n",
              "      </button>\n",
              "      \n",
              "  <style>\n",
              "    .colab-df-container {\n",
              "      display:flex;\n",
              "      flex-wrap:wrap;\n",
              "      gap: 12px;\n",
              "    }\n",
              "\n",
              "    .colab-df-convert {\n",
              "      background-color: #E8F0FE;\n",
              "      border: none;\n",
              "      border-radius: 50%;\n",
              "      cursor: pointer;\n",
              "      display: none;\n",
              "      fill: #1967D2;\n",
              "      height: 32px;\n",
              "      padding: 0 0 0 0;\n",
              "      width: 32px;\n",
              "    }\n",
              "\n",
              "    .colab-df-convert:hover {\n",
              "      background-color: #E2EBFA;\n",
              "      box-shadow: 0px 1px 2px rgba(60, 64, 67, 0.3), 0px 1px 3px 1px rgba(60, 64, 67, 0.15);\n",
              "      fill: #174EA6;\n",
              "    }\n",
              "\n",
              "    [theme=dark] .colab-df-convert {\n",
              "      background-color: #3B4455;\n",
              "      fill: #D2E3FC;\n",
              "    }\n",
              "\n",
              "    [theme=dark] .colab-df-convert:hover {\n",
              "      background-color: #434B5C;\n",
              "      box-shadow: 0px 1px 3px 1px rgba(0, 0, 0, 0.15);\n",
              "      filter: drop-shadow(0px 1px 2px rgba(0, 0, 0, 0.3));\n",
              "      fill: #FFFFFF;\n",
              "    }\n",
              "  </style>\n",
              "\n",
              "      <script>\n",
              "        const buttonEl =\n",
              "          document.querySelector('#df-b8305b07-73c8-4c3b-a619-24a82bb9f367 button.colab-df-convert');\n",
              "        buttonEl.style.display =\n",
              "          google.colab.kernel.accessAllowed ? 'block' : 'none';\n",
              "\n",
              "        async function convertToInteractive(key) {\n",
              "          const element = document.querySelector('#df-b8305b07-73c8-4c3b-a619-24a82bb9f367');\n",
              "          const dataTable =\n",
              "            await google.colab.kernel.invokeFunction('convertToInteractive',\n",
              "                                                     [key], {});\n",
              "          if (!dataTable) return;\n",
              "\n",
              "          const docLinkHtml = 'Like what you see? Visit the ' +\n",
              "            '<a target=\"_blank\" href=https://colab.research.google.com/notebooks/data_table.ipynb>data table notebook</a>'\n",
              "            + ' to learn more about interactive tables.';\n",
              "          element.innerHTML = '';\n",
              "          dataTable['output_type'] = 'display_data';\n",
              "          await google.colab.output.renderOutput(dataTable, element);\n",
              "          const docLink = document.createElement('div');\n",
              "          docLink.innerHTML = docLinkHtml;\n",
              "          element.appendChild(docLink);\n",
              "        }\n",
              "      </script>\n",
              "    </div>\n",
              "  </div>\n",
              "  "
            ]
          },
          "metadata": {},
          "execution_count": 29
        }
      ]
    }
  ]
}